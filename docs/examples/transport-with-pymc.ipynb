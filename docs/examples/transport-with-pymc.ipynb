{
 "cells": [
  {
   "cell_type": "code",
   "execution_count": 1,
   "id": "9ff039d9-af08-4303-a907-5db4a96050e6",
   "metadata": {},
   "outputs": [],
   "source": [
    "import jax\n",
    "import jax.numpy as jnp\n",
    "import numpy as np\n",
    "import matplotlib.pyplot as plt\n",
    "import dataclasses\n",
    "\n",
    "from kinetix import (\n",
    "    Advection,\n",
    "    Cells,\n",
    "    Dispersion,\n",
    "    FixedConcentrationBoundary,\n",
    "    System,\n",
    "    make_solver,\n",
    "    declare_species,\n",
    "    KineticReaction,\n",
    "    reaction,\n",
    "    SpatiallyConst,\n",
    "    SpatiallyVarying\n",
    ")\n",
    "\n",
    "from dataclasses import dataclass"
   ]
  },
  {
   "cell_type": "code",
   "execution_count": 2,
   "id": "06bc296f",
   "metadata": {},
   "outputs": [],
   "source": [
    "import pytensor.tensor as pt\n",
    "import pytensor\n",
    "import pymc as pm\n",
    "import nutpie"
   ]
  },
  {
   "cell_type": "code",
   "execution_count": 3,
   "id": "858c1ec4",
   "metadata": {},
   "outputs": [],
   "source": [
    "jax.config.update(\"jax_enable_x64\", True)"
   ]
  },
  {
   "cell_type": "code",
   "execution_count": 4,
   "id": "15bb6a7f",
   "metadata": {},
   "outputs": [],
   "source": [
    "@reaction\n",
    "class FirstOrderDecay(KineticReaction):\n",
    "    decay_coefficient: jax.Array\n",
    "\n",
    "    def rate(self, time, state, system):\n",
    "        return self.decay_coefficient * state.reactive_tracer\n",
    "\n",
    "    def stoichiometry(self, time, state, system):\n",
    "        return {\n",
    "            \"reactive_tracer\": -1,\n",
    "        }\n",
    "    \n",
    "Species = declare_species([\"tracer\", \"reactive_tracer\"])"
   ]
  },
  {
   "cell_type": "code",
   "execution_count": 5,
   "id": "75172d72-2e89-490e-af66-0b6c8ea984f8",
   "metadata": {},
   "outputs": [
    {
     "name": "stderr",
     "output_type": "stream",
     "text": [
      "WARNING:2025-09-09 16:35:29,866:jax._src.xla_bridge:864: An NVIDIA GPU may be present on this machine, but a CUDA-enabled jaxlib is not installed. Falling back to cpu.\n"
     ]
    },
    {
     "data": {
      "text/plain": [
       "np.float64(-6.593044534142437)"
      ]
     },
     "execution_count": 5,
     "metadata": {},
     "output_type": "execute_result"
    }
   ],
   "source": [
    "np.log(jnp.array(1 / 365) / (10 * 40 / 200))"
   ]
  },
  {
   "cell_type": "code",
   "execution_count": 25,
   "id": "1721c501-5617-420d-afd0-012d4ab732d4",
   "metadata": {},
   "outputs": [],
   "source": [
    "def make_system(decay_coefficient):\n",
    "    species_is_mobile = Species(tracer=True, reactive_tracer=True)\n",
    "    n_cells = 200\n",
    "    reactions = [\n",
    "        FirstOrderDecay(\n",
    "            decay_coefficient=decay_coefficient\n",
    "        )\n",
    "    ]\n",
    "    interface_areas = jnp.ones(n_cells + 1)\n",
    "    cells = Cells.equally_spaced(10, n_cells, interface_area=interface_areas)\n",
    "    dispersion = Dispersion.build(\n",
    "        cells=cells,\n",
    "        dispersivity=jnp.array(0.1),\n",
    "        pore_diffusion=Species(\n",
    "            tracer=jnp.array(1e-9 * 3600 * 24),\n",
    "            reactive_tracer=jnp.array(1e-9 * 3600 * 24),\n",
    "        ),\n",
    "    )\n",
    "    advection = Advection.build(\n",
    "        limiter_type=\"upwind\",\n",
    "    )\n",
    "    bcs = [\n",
    "        FixedConcentrationBoundary(\n",
    "            boundary=\"left\",\n",
    "            species_selector=lambda s: getattr(s, \"tracer\"),\n",
    "            fixed_concentration=lambda t: jnp.array(10.0),\n",
    "        ),\n",
    "        FixedConcentrationBoundary(\n",
    "            boundary=\"right\",\n",
    "            species_selector=lambda s: getattr(s, \"tracer\"),\n",
    "            fixed_concentration=lambda t: jnp.array(3.0),\n",
    "        ),\n",
    "        FixedConcentrationBoundary(\n",
    "            boundary=\"left\",\n",
    "            species_selector=lambda s: getattr(s, \"reactive_tracer\"),\n",
    "            fixed_concentration=lambda t: jnp.array(1.0),\n",
    "        ),\n",
    "        FixedConcentrationBoundary(\n",
    "            boundary=\"right\",\n",
    "            species_selector=lambda s: getattr(s, \"reactive_tracer\"),\n",
    "            fixed_concentration=lambda t: jnp.array(3.0),\n",
    "        )\n",
    "    ]\n",
    "\n",
    "    porosity= jnp.ones(n_cells) * 0.3\n",
    "    #porosity = porosity.at[100:].set(0.1)\n",
    "    return System.build(\n",
    "        porosity=porosity,\n",
    "        # velocity=lambda t: jnp.array(1 / 365) * jnp.sin(np.pi * 2 * 1 / 5000 * t),\n",
    "        discharge=lambda t: jnp.array(1 / 365) * 0.3,\n",
    "        cells=cells,\n",
    "        advection=advection,\n",
    "        dispersion=dispersion,\n",
    "        species_is_mobile=species_is_mobile,\n",
    "        bcs=bcs,\n",
    "        reactions=reactions\n",
    "    )"
   ]
  },
  {
   "cell_type": "code",
   "execution_count": 69,
   "id": "853ceb90",
   "metadata": {},
   "outputs": [],
   "source": [
    "t_points = jnp.linspace(0, 8000, 123)\n",
    "coords = {\n",
    "    \"time_dense\": np.array(t_points),\n",
    "}\n",
    "\n",
    "with pm.Model(coords=coords) as model:\n",
    "    decay_coefficient = pm.HalfNormal(\"k_dec\", 0.01)\n",
    "    system = make_system(decay_coefficient)\n",
    "    model.add_coord(\"x\", np.array(system.cells.centers))\n",
    "    val0 = jnp.zeros(system.cells.n_cells)\n",
    "    initial_state = Species(\n",
    "        tracer=val0,\n",
    "        reactive_tracer=val0\n",
    "    )\n",
    "\n",
    "    @pytensor.wrap_jax\n",
    "    def solve_pt(y0, system):\n",
    "        solve_fn_dense = make_solver(t_max=8000, t_points=t_points, rtol=1e-6, atol=1e-6, max_steps=10_000 * 100)\n",
    "        return solve_fn_dense(y0, system).ys\n",
    "    \n",
    "    solution = solve_pt(initial_state, system)\n",
    "\n",
    "    fields = dataclasses.fields(solution)\n",
    "    for field in fields:\n",
    "        pm.Deterministic(\n",
    "            field.name,\n",
    "            getattr(solution, field.name),\n",
    "            dims=(\"time_dense\", \"x\"),\n",
    "        )\n",
    "    pm.Normal(\"made_up_point\", mu=solution.reactive_tracer[20, 40], sigma=0.1, observed=0.5)\n"
   ]
  },
  {
   "cell_type": "code",
   "execution_count": 58,
   "id": "611751aa-b9a6-43b9-9d48-876f76ed0462",
   "metadata": {},
   "outputs": [],
   "source": [
    "import equinox as eqx"
   ]
  },
  {
   "cell_type": "code",
   "execution_count": 59,
   "id": "094629f2-bc74-40b1-94b6-081e0f4c140b",
   "metadata": {},
   "outputs": [],
   "source": [
    "import diffrax\n",
    "import optimistix"
   ]
  },
  {
   "cell_type": "code",
   "execution_count": 48,
   "id": "70fdd6d3-fa33-4bc3-ace2-11c07e6f1cd9",
   "metadata": {},
   "outputs": [],
   "source": [
    "system = make_system(np.exp(-7))\n",
    "\n",
    "initial_state = Species(\n",
    "    tracer=val0,\n",
    "    reactive_tracer=val0,\n",
    ")\n",
    "\n",
    "root_finder = optimistix.Dogleg(rtol=1e-9, atol=1e-9, norm=optimistix.two_norm)\n",
    "solver = diffrax.Kvaerno3(root_find_max_steps=10, root_finder=root_finder)\n",
    "\n",
    "solver = diffrax.Tsit5()\n",
    "#adjoint = diffrax.BacksolveAdjoint()\n",
    "solve_fn = make_solver(t_max=8000, t_points=t_points, rtol=1e-6, atol=1e-6, max_steps=10_000 * 100, solver=solver)\n",
    "grad_solution = eqx.filter_jit(jax.grad(lambda initial_state, system: solve_fn(initial_state, system).ys.reactive_tracer[20, 40]))(initial_state, system)\n",
    "solution = eqx.filter_jit(solve_fn)(initial_state, system)"
   ]
  },
  {
   "cell_type": "code",
   "execution_count": 7,
   "id": "ee25de4d",
   "metadata": {},
   "outputs": [
    {
     "name": "stderr",
     "output_type": "stream",
     "text": [
      "Sampling: [k_dec, made_up_point]\n"
     ]
    }
   ],
   "source": [
    "with model:\n",
    "    prior = pm.sample_prior_predictive(draws=50)"
   ]
  },
  {
   "cell_type": "code",
   "execution_count": 70,
   "id": "07ab9b9a-1a4c-4eb2-b655-8e55b75e6258",
   "metadata": {},
   "outputs": [],
   "source": [
    "compiled = nutpie.compile_pymc_model(model, backend=\"jax\", gradient_backend=\"jax\")"
   ]
  },
  {
   "cell_type": "code",
   "execution_count": 81,
   "id": "fca11dc7",
   "metadata": {},
   "outputs": [
    {
     "data": {
      "text/html": [
       "\n",
       "<style>\n",
       "    :root {\n",
       "        --column-width-1: 40%; /* Progress column width */\n",
       "        --column-width-2: 15%; /* Chain column width */\n",
       "        --column-width-3: 15%; /* Divergences column width */\n",
       "        --column-width-4: 15%; /* Step Size column width */\n",
       "        --column-width-5: 15%; /* Gradients/Draw column width */\n",
       "    }\n",
       "\n",
       "    .nutpie {\n",
       "        max-width: 800px;\n",
       "        margin: 10px auto;\n",
       "        font-family: 'Segoe UI', Tahoma, Geneva, Verdana, sans-serif;\n",
       "        //color: #333;\n",
       "        //background-color: #fff;\n",
       "        padding: 10px;\n",
       "        box-shadow: 0 4px 6px rgba(0,0,0,0.1);\n",
       "        border-radius: 8px;\n",
       "        font-size: 14px; /* Smaller font size for a more compact look */\n",
       "    }\n",
       "    .nutpie table {\n",
       "        width: 100%;\n",
       "        border-collapse: collapse; /* Remove any extra space between borders */\n",
       "    }\n",
       "    .nutpie th, .nutpie td {\n",
       "        padding: 8px 10px; /* Reduce padding to make table more compact */\n",
       "        text-align: left;\n",
       "        border-bottom: 1px solid #888;\n",
       "    }\n",
       "    .nutpie th {\n",
       "        //background-color: #f0f0f0;\n",
       "    }\n",
       "\n",
       "    .nutpie th:nth-child(1) { width: var(--column-width-1); }\n",
       "    .nutpie th:nth-child(2) { width: var(--column-width-2); }\n",
       "    .nutpie th:nth-child(3) { width: var(--column-width-3); }\n",
       "    .nutpie th:nth-child(4) { width: var(--column-width-4); }\n",
       "    .nutpie th:nth-child(5) { width: var(--column-width-5); }\n",
       "\n",
       "    .nutpie progress {\n",
       "        width: 100%;\n",
       "        height: 15px; /* Smaller progress bars */\n",
       "        border-radius: 5px;\n",
       "    }\n",
       "    progress::-webkit-progress-bar {\n",
       "        background-color: #eee;\n",
       "        border-radius: 5px;\n",
       "    }\n",
       "    progress::-webkit-progress-value {\n",
       "        background-color: #5cb85c;\n",
       "        border-radius: 5px;\n",
       "    }\n",
       "    progress::-moz-progress-bar {\n",
       "        background-color: #5cb85c;\n",
       "        border-radius: 5px;\n",
       "    }\n",
       "    .nutpie .progress-cell {\n",
       "        width: 100%;\n",
       "    }\n",
       "\n",
       "    .nutpie p strong { font-size: 16px; font-weight: bold; }\n",
       "\n",
       "    @media (prefers-color-scheme: dark) {\n",
       "        .nutpie {\n",
       "            //color: #ddd;\n",
       "            //background-color: #1e1e1e;\n",
       "            box-shadow: 0 4px 6px rgba(0,0,0,0.2);\n",
       "        }\n",
       "        .nutpie table, .nutpie th, .nutpie td {\n",
       "            border-color: #555;\n",
       "            color: #ccc;\n",
       "        }\n",
       "        .nutpie th {\n",
       "            background-color: #2a2a2a;\n",
       "        }\n",
       "        .nutpie progress::-webkit-progress-bar {\n",
       "            background-color: #444;\n",
       "        }\n",
       "        .nutpie progress::-webkit-progress-value {\n",
       "            background-color: #3178c6;\n",
       "        }\n",
       "        .nutpie progress::-moz-progress-bar {\n",
       "            background-color: #3178c6;\n",
       "        }\n",
       "    }\n",
       "</style>\n"
      ],
      "text/plain": [
       "<IPython.core.display.HTML object>"
      ]
     },
     "metadata": {},
     "output_type": "display_data"
    },
    {
     "data": {
      "text/html": [
       "\n",
       "<div class=\"nutpie\">\n",
       "    <p><strong>Sampler Progress</strong></p>\n",
       "    <p>Total Chains: <span id=\"total-chains\">2</span></p>\n",
       "    <p>Active Chains: <span id=\"active-chains\">2</span></p>\n",
       "    <p>\n",
       "        Finished Chains:\n",
       "        <span id=\"active-chains\">0</span>\n",
       "    </p>\n",
       "    <p>Sampling for 2 minutes</p>\n",
       "    <p>\n",
       "        Estimated Time to Completion:\n",
       "        <span id=\"eta\">42 minutes</span>\n",
       "    </p>\n",
       "\n",
       "    <progress\n",
       "        id=\"total-progress-bar\"\n",
       "        max=\"2800\"\n",
       "        value=\"108\">\n",
       "    </progress>\n",
       "    <table>\n",
       "        <thead>\n",
       "            <tr>\n",
       "                <th>Progress</th>\n",
       "                <th>Draws</th>\n",
       "                <th>Divergences</th>\n",
       "                <th>Step Size</th>\n",
       "                <th>Gradients/Draw</th>\n",
       "            </tr>\n",
       "        </thead>\n",
       "        <tbody id=\"chain-details\">\n",
       "            \n",
       "                <tr>\n",
       "                    <td class=\"progress-cell\">\n",
       "                        <progress\n",
       "                            max=\"1400\"\n",
       "                            value=\"55\">\n",
       "                        </progress>\n",
       "                    </td>\n",
       "                    <td>55</td>\n",
       "                    <td>0</td>\n",
       "                    <td>1.89</td>\n",
       "                    <td>1</td>\n",
       "                </tr>\n",
       "            \n",
       "                <tr>\n",
       "                    <td class=\"progress-cell\">\n",
       "                        <progress\n",
       "                            max=\"1400\"\n",
       "                            value=\"53\">\n",
       "                        </progress>\n",
       "                    </td>\n",
       "                    <td>53</td>\n",
       "                    <td>0</td>\n",
       "                    <td>2.26</td>\n",
       "                    <td>1</td>\n",
       "                </tr>\n",
       "            \n",
       "            </tr>\n",
       "        </tbody>\n",
       "    </table>\n",
       "</div>\n"
      ],
      "text/plain": [
       "<nutpie.sample._BackgroundSampler at 0x7f63a8184050>"
      ]
     },
     "metadata": {},
     "output_type": "display_data"
    }
   ],
   "source": [
    "compiled = nutpie.compile_pymc_model(model, backend=\"jax\", gradient_backend=\"jax\")\n",
    "sampler = nutpie.sample(compiled, chains=2, blocking=False)"
   ]
  },
  {
   "cell_type": "code",
   "execution_count": 108,
   "id": "d492fbb1",
   "metadata": {},
   "outputs": [],
   "source": [
    "trace = sampler.inspect()"
   ]
  },
  {
   "cell_type": "code",
   "execution_count": 111,
   "id": "82bec851-04e7-4c3a-bddd-c9935a47d26f",
   "metadata": {},
   "outputs": [],
   "source": [
    "tr = sampler.abort()"
   ]
  },
  {
   "cell_type": "code",
   "execution_count": 109,
   "id": "83507be2-cfcf-4758-8104-57e3e273377f",
   "metadata": {},
   "outputs": [],
   "source": [
    "import arviz as az"
   ]
  },
  {
   "cell_type": "code",
   "execution_count": 110,
   "id": "f50267d0-00fc-42b1-9ba8-49a3360e7c33",
   "metadata": {},
   "outputs": [
    {
     "data": {
      "text/plain": [
       "array([[<Axes: title={'center': 'k_dec_log__'}>,\n",
       "        <Axes: title={'center': 'k_dec_log__'}>]], dtype=object)"
      ]
     },
     "execution_count": 110,
     "metadata": {},
     "output_type": "execute_result"
    },
    {
     "data": {
      "image/png": "[encoded data removed]",
      "text/plain": [
       "<Figure size 1200x200 with 2 Axes>"
      ]
     },
     "metadata": {},
     "output_type": "display_data"
    }
   ],
   "source": [
    "az.plot_trace(trace.warmup_posterior.k_dec_log__.isel(draw=slice(50, None)))"
   ]
  },
  {
   "cell_type": "code",
   "execution_count": null,
   "id": "c9230034",
   "metadata": {},
   "outputs": [],
   "source": [
    "sampler.abort()"
   ]
  },
  {
   "cell_type": "code",
   "execution_count": null,
   "id": "35abfdbf",
   "metadata": {},
   "outputs": [],
   "source": [
    "trace.warmup_sample_stats.diverging.plot.line(x=\"draw\", hue=\"chain\")"
   ]
  },
  {
   "cell_type": "code",
   "execution_count": null,
   "id": "9c1c306d",
   "metadata": {},
   "outputs": [],
   "source": [
    "trace.warmup_posterior.k_dec.isel(chain=0, draw=slice(100, None)).plot.line(x=\"draw\")"
   ]
  },
  {
   "cell_type": "code",
   "execution_count": null,
   "id": "63a3c605",
   "metadata": {},
   "outputs": [],
   "source": [
    "trace.warmup_sample_stats.step_size.plot.line(x=\"draw\")\n",
    "plt.yscale(\"log\")"
   ]
  },
  {
   "cell_type": "code",
   "execution_count": null,
   "id": "a12de2d8",
   "metadata": {},
   "outputs": [],
   "source": [
    "trace.warmup_posterior.reactive_tracer.isel(chain=0, time_dense=20).plot.line(x=\"x\", hue=\"draw\", add_legend=False);"
   ]
  },
  {
   "cell_type": "code",
   "execution_count": null,
   "id": "430a404d",
   "metadata": {},
   "outputs": [],
   "source": [
    "prior.prior.reactive_tracer.isel(chain=0, time_dense=20).plot.line(x=\"x\", hue=\"draw\", add_legend=False);"
   ]
  },
  {
   "cell_type": "code",
   "execution_count": null,
   "id": "6895010e",
   "metadata": {},
   "outputs": [],
   "source": [
    "prior.prior.reactive_tracer.isel(chain=0, x=-1).plot.line(x=\"time_dense\", hue=\"draw\", add_legend=False);"
   ]
  },
  {
   "cell_type": "code",
   "execution_count": null,
   "id": "cecd4b29",
   "metadata": {},
   "outputs": [],
   "source": []
  }
 ],
 "metadata": {
  "kernelspec": {
   "display_name": "Python (Pixi)",
   "language": "python",
   "name": "pixi-kernel-python3"
  },
  "language_info": {
   "codemirror_mode": {
    "name": "ipython",
    "version": 3
   },
   "file_extension": ".py",
   "mimetype": "text/x-python",
   "name": "python",
   "nbconvert_exporter": "python",
   "pygments_lexer": "ipython3",
   "version": "3.13.5"
  }
 },
 "nbformat": 4,
 "nbformat_minor": 5
}
