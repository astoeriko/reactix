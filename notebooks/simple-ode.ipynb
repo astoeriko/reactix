{
 "cells": [
  {
   "cell_type": "code",
   "execution_count": null,
   "id": "da7dad09-fe31-4276-bfa5-a5c2efa4318d",
   "metadata": {},
   "outputs": [],
   "source": [
    "%env EQX_ON_ERROR=nan\n",
    "%env XLA_PYTHON_CLIENT_MEM_FRACTION=0.2\n",
    "# %env JAX_PLATFORMS=cpu"
   ]
  },
  {
   "cell_type": "code",
   "execution_count": null,
   "id": "2a94f940-99d9-4971-9ff0-ab73a375f8c1",
   "metadata": {},
   "outputs": [],
   "source": [
    "import jax\n",
    "\n",
    "jax.config.update(\"jax_enable_x64\", True)\n",
    "\n",
    "from kinetix.reactions import (\n",
    "    NitrateReduction,\n",
    "    NitriteReduction,\n",
    "    Species,\n",
    "    AerobicRespiration,\n",
    "    Reactions,\n",
    "    NNReaction,\n",
    ")\n",
    "from diffrax import diffeqsolve, ODETerm, Dopri5, SaveAt\n",
    "import diffrax\n",
    "import jax.numpy as jnp\n",
    "import jax\n",
    "import matplotlib.pyplot as plt\n",
    "import numpy as np\n",
    "from dataclasses import dataclass\n",
    "import dataclasses\n",
    "from typing import Any\n",
    "from functools import partial\n",
    "import pytensor.tensor as pt\n",
    "import pytensor\n",
    "import pymc as pm\n",
    "import nutpie\n",
    "import xarray as xr\n",
    "import optimistix\n",
    "import equinox as eqx\n",
    "import arviz\n",
    "import seaborn as sns\n",
    "\n",
    "\n",
    "def rhs(t, log_state: Species, reactions: Reactions):\n",
    "    rates = reactions.specific_rate(log_state)\n",
    "    return Species(\n",
    "        nitrate=3600 * rates.nitrate,\n",
    "        nitrite=3600 * rates.nitrite,\n",
    "        biomass=3600 * rates.biomass,\n",
    "        oxygen_liq=3600 * rates.oxygen_liq,\n",
    "    )\n",
    "\n",
    "\n",
    "cpu_device = jax.devices(\"cpu\")[0]\n",
    "\n",
    "\n",
    "def make_solver(*, t_max, t_points, rtol=1e-8, atol=1e-8, solver=None, t0=0, dt0=None):\n",
    "    if solver is None:\n",
    "        # solver = diffrax.Dopri5()\n",
    "        solver = diffrax.Tsit5()\n",
    "        # root_finder = optimistix.Dogleg(rtol=1e-9, atol=1e-9, norm=optimistix.two_norm)\n",
    "        # solver = diffrax.Kvaerno3(root_find_max_steps=10, root_finder=root_finder)\n",
    "        # solver = diffrax.Kvaerno3()\n",
    "\n",
    "    term = ODETerm(rhs)\n",
    "    stepsize_controller = diffrax.PIDController(\n",
    "        rtol=rtol,\n",
    "        atol=atol,\n",
    "        # norm=optimistix.two_norm,\n",
    "    )\n",
    "    t_vals = SaveAt(ts=t_points)\n",
    "\n",
    "    @eqx.filter_jit(device=cpu_device)\n",
    "    def solve(y0: Species, reactions: Reactions):\n",
    "        def root_rhs(y, args):\n",
    "            value = Species(\n",
    "                nitrate=y0.nitrate,\n",
    "                nitrite=y,\n",
    "                oxygen_liq=y0.oxygen_liq,\n",
    "                biomass=y0.biomass,\n",
    "            )\n",
    "            out = rhs(0.0, value, reactions).nitrite\n",
    "            return out\n",
    "\n",
    "        # y0_root = jnp.array(-15.0)\n",
    "        # root_finder = optimistix.Bisection(rtol=1e-7, atol=1e-7, norm=optimistix.two_norm)\n",
    "        # root_finder = optimistix.Bisection(rtol=1e-7, atol=1e-7)\n",
    "        # sol = optimistix.root_find(root_rhs, root_finder, y0_root, options=dict(lower=-30, upper=-5))\n",
    "\n",
    "        # y0 = Species(\n",
    "        #    nitrate=y0.nitrate,\n",
    "        #    nitrite=sol.value,\n",
    "        #    oxygen_liq=y0.oxygen_liq,\n",
    "        #    biomass=y0.biomass,\n",
    "        # )\n",
    "\n",
    "        result = diffeqsolve(\n",
    "            term,\n",
    "            solver,\n",
    "            t0=t0,\n",
    "            t1=t_max,\n",
    "            dt0=dt0,\n",
    "            y0=y0,\n",
    "            saveat=t_vals,\n",
    "            args=reactions,\n",
    "            stepsize_controller=stepsize_controller,\n",
    "            max_steps=1024 * 32,\n",
    "        )\n",
    "        return result\n",
    "\n",
    "    return solve"
   ]
  },
  {
   "cell_type": "code",
   "execution_count": null,
   "id": "3b72685e-9faf-43d8-862b-3b2b087578a8",
   "metadata": {},
   "outputs": [],
   "source": [
    "data = xr.open_dataset(\"../data/data_Qu_2015.nc\").load()"
   ]
  },
  {
   "cell_type": "code",
   "execution_count": null,
   "id": "2ce3d116-e4b6-4ad6-b90d-77bc2ca9a14b",
   "metadata": {},
   "outputs": [],
   "source": [
    "time = data.time\n",
    "nitrite = data[\"NO2-\"]\n",
    "biomass = data[\"cells\"]"
   ]
  },
  {
   "cell_type": "code",
   "execution_count": null,
   "id": "619f2865-9363-43fe-ac62-1fc405fce965",
   "metadata": {},
   "outputs": [],
   "source": [
    "# Remove outlier\n",
    "biomass.values[0] = np.nan"
   ]
  },
  {
   "cell_type": "code",
   "execution_count": null,
   "id": "15dfe882-bf3c-4edb-958c-60c9ddcd9337",
   "metadata": {},
   "outputs": [],
   "source": [
    "coords = {\n",
    "    \"time_measured\": time.values,\n",
    "    \"time_dense\": jnp.linspace(time.values.min(), time.values.max(), num=50),\n",
    "}\n",
    "\n",
    "with pm.Model(coords=coords) as model:\n",
    "    with pm.Model(\"y0\"):\n",
    "        # TODO remove first cell observation?\n",
    "        biomass_log = pm.StudentT(\"biomass_log\", mu=21.0, sigma=0.5, nu=10)\n",
    "        # nitrite_log = pm.Normal(\"nitrite_log\", mu=-15.0, sigma=5)\n",
    "        nitrite_log = pm.StudentT(\"nitrite_log\", mu=-18.0, sigma=5, nu=10)\n",
    "        y0_pt = Species(\n",
    "            nitrate=np.log(2e-3),\n",
    "            nitrite=-16.0,\n",
    "            biomass=biomass_log,\n",
    "            oxygen_liq=np.log(9.3e-5),\n",
    "        )\n",
    "        # y0_pt = Species(\n",
    "        #    nitrate=2e-3,\n",
    "        #    nitrite=np.exp(-20),  # TODO\n",
    "        #    biomass=pt.exp(biomass_log),\n",
    "        #    oxygen_liq=9.3e-5,\n",
    "        # )\n",
    "\n",
    "    if False:\n",
    "        with pm.Model(\"nn\"):\n",
    "            key = jax.random.key(0)\n",
    "            nn_jax = eqx.nn.MLP(\n",
    "                4,\n",
    "                4,\n",
    "                width_size=4,\n",
    "                depth=1,\n",
    "                activation=jax.nn.gelu,\n",
    "                key=key,\n",
    "            )\n",
    "\n",
    "            count = 0\n",
    "\n",
    "            def make_node(x):\n",
    "                global count\n",
    "                count += 1\n",
    "                if not eqx.is_inexact_array(x):\n",
    "                    return x\n",
    "                val = pm.Normal(f\"val{count}\", shape=x.shape)\n",
    "                return val\n",
    "\n",
    "            nn_pt = jax.tree.map(make_node, nn_jax)\n",
    "            reaction_nn = NNReaction(nn_pt, Species.zeros())\n",
    "    else:\n",
    "        reaction_nn = None\n",
    "\n",
    "    with pm.Model(\"nitrate_reduction\"):\n",
    "        oxygen_inhib_log = pm.Normal(\"oxygen_inhib_log\", mu=-15, sigma=3)\n",
    "        nu_max_log = pm.StudentT(\"nu_max_log\", mu=-44, sigma=1.5, nu=10)\n",
    "        nitrate_reduction = NitrateReduction(\n",
    "            log_nu_max=nu_max_log,\n",
    "            log_K=pt.as_tensor(np.log(5e-6)),\n",
    "            log_oxygen_inhib=oxygen_inhib_log,\n",
    "        )\n",
    "\n",
    "    with pm.Model(\"nitrite_reduction\"):\n",
    "        oxygen_inhib_log = pm.Normal(\"oxygen_inhib_log\", mu=-15, sigma=3)\n",
    "        nu_max_log = pm.StudentT(\"nu_max_log\", mu=-44, sigma=1.5, nu=10)\n",
    "        nitrite_reduction = NitriteReduction(\n",
    "            log_nu_max=nu_max_log,\n",
    "            log_K=pt.as_tensor(np.log(5e-6)),\n",
    "            log_oxygen_inhib=oxygen_inhib_log,\n",
    "        )\n",
    "\n",
    "    #    prior_Ks_log = stats.t(loc=-13, scale=2, df=10).rvs(10000)\n",
    "    #    prior_rmax_log = stats.norm(loc=-44, scale=1.5).rvs(10000)\n",
    "    with pm.Model(\"aerobic_respiration\"):\n",
    "        nu_max_log = pm.Normal(\"nu_max_log\", mu=-44, sigma=1.5)\n",
    "        K_log = pm.StudentT(\"K_log\", mu=-13, sigma=2, nu=10)\n",
    "        growth_yield_log = pm.StudentT(\n",
    "            \"growth_yield_log\",\n",
    "            mu=np.log(7e14),\n",
    "            sigma=0.5,\n",
    "            nu=10,\n",
    "        )\n",
    "        aerobic_respiration = AerobicRespiration(\n",
    "            log_nu_max=nu_max_log,\n",
    "            log_K=K_log,\n",
    "            log_growth_yield=growth_yield_log,\n",
    "        )\n",
    "\n",
    "    reactions_pt = Reactions(\n",
    "        reactions=[nitrate_reduction, nitrite_reduction, aerobic_respiration],\n",
    "        nn_reaction=reaction_nn,\n",
    "    )\n",
    "\n",
    "    # Dense solver only used in deterministic for plotting\n",
    "    t_points = coords[\"time_dense\"]\n",
    "    t_max = max(t_points)\n",
    "    solve_fn_dense = make_solver(t_max=t_max, t_points=t_points)\n",
    "\n",
    "    @pytensor.as_jax_op\n",
    "    def solve_pt(y0, reactions):\n",
    "        return solve_fn_dense(y0, reactions).ys\n",
    "\n",
    "    solution = solve_pt(y0_pt, reactions_pt)\n",
    "\n",
    "    with pm.Model(\"solution_dense\"):\n",
    "        fields = dataclasses.fields(solution)\n",
    "        for field in fields:\n",
    "            pm.Deterministic(\n",
    "                field.name,\n",
    "                pt.exp(getattr(solution, field.name)),\n",
    "                dims=\"time_dense\",\n",
    "            )\n",
    "\n",
    "    # Solve at time locations where it was measured\n",
    "    t_points = coords[\"time_measured\"]\n",
    "    t_max = max(t_points)\n",
    "    solve_fn_measured = make_solver(t_max=t_max, t_points=t_points)\n",
    "\n",
    "    @pytensor.as_jax_op\n",
    "    def solve_pt(y0, reactions):\n",
    "        return solve_fn_measured(y0, reactions).ys\n",
    "\n",
    "    solution = solve_pt(y0_pt, reactions_pt)\n",
    "\n",
    "    with pm.Model(\"solution_measured\"):\n",
    "        fields = dataclasses.fields(solution)\n",
    "        for field in fields:\n",
    "            pm.Deterministic(\n",
    "                field.name,\n",
    "                pt.exp(getattr(solution, field.name)),\n",
    "                dims=\"time_measured\",\n",
    "            )\n",
    "\n",
    "    # Nitrite likelihood\n",
    "    with pm.Model(\"nitrite\"):\n",
    "        time_idx, replicate_idx = nitrite.notnull().values.nonzero()\n",
    "\n",
    "        if True:\n",
    "            mu = solution.nitrite[time_idx]\n",
    "            observed = nitrite.values[time_idx, replicate_idx]\n",
    "            sigma_rel = pm.HalfNormal(\"sigma_rel\", sigma=0.05)\n",
    "            with_rel_error = pm.Normal(\n",
    "                \"with_rel_error\", mu=mu, sigma=sigma_rel, shape=len(observed)\n",
    "            )\n",
    "            sigma_abs = pm.HalfNormal(\"micro_sigma_abs\", sigma=1) * 1e-6\n",
    "            pm.Normal(\n",
    "                \"y\", mu=pt.exp(with_rel_error), sigma=sigma_abs, observed=observed\n",
    "            )\n",
    "        elif False:\n",
    "            mu = pt.exp(solution.nitrite[time_idx])\n",
    "            observed = nitrite.values[time_idx, replicate_idx]\n",
    "            sigma = pm.HalfNormal(\"sigma\", sigma=1) * 1e-4\n",
    "            pm.Normal(\"y\", mu=mu, sigma=sigma, observed=observed)\n",
    "        else:\n",
    "            mu = solution.nitrite[time_idx]\n",
    "            observed = np.log(nitrite.values[time_idx, replicate_idx])\n",
    "            sigma = pm.HalfNormal(\"sigma\", sigma=0.1)\n",
    "            dist = pm.StudentT.dist(mu=mu, sigma=sigma, nu=10)\n",
    "            pm.Censored(\"y\", dist, lower=-16, observed=np.clip(observed, -16, np.inf))\n",
    "\n",
    "    # biomass likelihood\n",
    "    with pm.Model(\"biomass\"):\n",
    "        time_idx, replicate_idx = biomass.notnull().values.nonzero()\n",
    "        # mu = pt.exp(solution.biomass[time_idx] - np.log(1e11))\n",
    "        mu = solution.biomass[time_idx]\n",
    "        observed = np.log(biomass.values[time_idx, replicate_idx])  # / 1e11\n",
    "        sigma = pm.HalfNormal(\"sigma\", sigma=0.2)\n",
    "        # sigma = 0.5\n",
    "        pm.Normal(\"y\", mu=mu, sigma=sigma, observed=observed)"
   ]
  },
  {
   "cell_type": "code",
   "execution_count": null,
   "id": "5c8ca727-6272-4e1b-92a6-8950d2ffa273",
   "metadata": {},
   "outputs": [],
   "source": [
    "compiled = nutpie.compile_pymc_model(model, backend=\"jax\", gradient_backend=\"jax\")"
   ]
  },
  {
   "cell_type": "code",
   "execution_count": null,
   "id": "8f365e60-87f3-4cfe-911e-01abef95e0d9",
   "metadata": {},
   "outputs": [],
   "source": [
    "compiled.n_dim"
   ]
  },
  {
   "cell_type": "code",
   "execution_count": null,
   "id": "61afaef2-028c-4501-b6db-f8810b50cdef",
   "metadata": {},
   "outputs": [],
   "source": [
    "reactions = jax.tree.map(lambda x: pm.draw(x), reactions_pt)\n",
    "reactions\n",
    "y0 = jax.tree.map(\n",
    "    lambda x: x if isinstance(x, np.ndarray) or np.isscalar(x) else pm.draw(x), y0_pt\n",
    ")\n",
    "\n",
    "\n",
    "def rhs(t, log_state: Species, reactions: Reactions):\n",
    "    rates = reactions.specific_rate(log_state)\n",
    "    return Species(\n",
    "        nitrate=3600 * rates.nitrate,\n",
    "        nitrite=3600 * rates.nitrite,\n",
    "        biomass=3600 * rates.biomass,\n",
    "        oxygen_liq=3600 * rates.oxygen_liq,\n",
    "    )"
   ]
  },
  {
   "cell_type": "code",
   "execution_count": null,
   "id": "d9868e3f-73bb-4828-ac6c-b02db7aa1f34",
   "metadata": {},
   "outputs": [],
   "source": [
    "solver = diffrax.Tsit5()\n",
    "# root_finder = optimistix.Dogleg(rtol=1e-9, atol=1e-9, norm=optimistix.two_norm)\n",
    "# solver = diffrax.Kvaerno5(root_find_max_steps=10, root_finder=root_finder)\n",
    "\n",
    "term = ODETerm(rhs)\n",
    "stepsize_controller = diffrax.PIDController(\n",
    "    rtol=1e-8,\n",
    "    atol=1e-8,\n",
    "    norm=optimistix.two_norm,\n",
    ")\n",
    "\n",
    "\n",
    "@jax.tree_util.register_dataclass\n",
    "@dataclass\n",
    "class ODEOutput:\n",
    "    dense: diffrax.SubSaveAt\n",
    "    measured: diffrax.SubSaveAt\n",
    "    rhs: diffrax.SubSaveAt\n",
    "\n",
    "\n",
    "subs = ODEOutput(\n",
    "    dense=diffrax.SubSaveAt(ts=coords[\"time_dense\"]),\n",
    "    rhs=diffrax.SubSaveAt(ts=t_points, fn=rhs),\n",
    "    measured=diffrax.SubSaveAt(ts=coords[\"time_measured\"]),\n",
    ")\n",
    "t_vals = SaveAt(subs=subs)\n",
    "\n",
    "\n",
    "result = diffeqsolve(\n",
    "    term,\n",
    "    solver,\n",
    "    t0=0.0,\n",
    "    t1=max(t_points),\n",
    "    dt0=None,\n",
    "    y0=y0,\n",
    "    saveat=t_vals,\n",
    "    args=reactions,\n",
    "    stepsize_controller=stepsize_controller,\n",
    "    max_steps=1024 * 32,\n",
    ")"
   ]
  },
  {
   "cell_type": "code",
   "execution_count": null,
   "id": "98625b20-d3c5-41d0-b684-db2e28b07c66",
   "metadata": {},
   "outputs": [],
   "source": [
    "%%time\n",
    "with model:\n",
    "    prior = pm.sample_prior_predictive(draws=50, random_seed=42)"
   ]
  },
  {
   "cell_type": "code",
   "execution_count": null,
   "id": "767194f0-9ae1-43c9-8bd2-aaec517c15d3",
   "metadata": {},
   "outputs": [],
   "source": [
    "prior.prior[\"solution_dense::biomass\"].plot.line(\n",
    "    x=\"time_dense\", hue=\"draw\", col=\"chain\", add_legend=False\n",
    ")\n",
    "plt.scatter(\n",
    "    biomass.time,\n",
    "    biomass.mean(\"replicate\"),\n",
    ")"
   ]
  },
  {
   "cell_type": "code",
   "execution_count": null,
   "id": "313883cc-022b-425e-af32-084d026a83c0",
   "metadata": {},
   "outputs": [],
   "source": [
    "prior.prior[\"solution_dense::nitrate\"].plot.line(\n",
    "    x=\"time_dense\", hue=\"draw\", col=\"chain\", add_legend=False\n",
    ")"
   ]
  },
  {
   "cell_type": "code",
   "execution_count": null,
   "id": "86e5734a-284a-4055-8308-e18dfa4a7ce4",
   "metadata": {},
   "outputs": [],
   "source": [
    "prior.prior[\"solution_dense::nitrite\"].plot.line(\n",
    "    x=\"time_dense\", hue=\"draw\", col=\"chain\", add_legend=False\n",
    ")\n",
    "plt.scatter(\n",
    "    nitrite.time,\n",
    "    nitrite.mean(\"replicate\"),\n",
    ")"
   ]
  },
  {
   "cell_type": "code",
   "execution_count": null,
   "id": "475a2b8b-de1c-4b28-b04f-52e4c593fa2c",
   "metadata": {},
   "outputs": [],
   "source": [
    "prior.prior[\"solution_dense::oxygen_liq\"].plot.line(\n",
    "    x=\"time_dense\", hue=\"draw\", col=\"chain\", add_legend=False\n",
    ")"
   ]
  },
  {
   "cell_type": "code",
   "execution_count": null,
   "id": "9e4a4a73-be1e-4737-b864-62c3c4c7f59e",
   "metadata": {},
   "outputs": [],
   "source": [
    "(prior.prior[\"solution_dense::nitrite\"]).plot.line(\n",
    "    x=\"time_dense\", hue=\"draw\", col=\"chain\", add_legend=False\n",
    ")"
   ]
  },
  {
   "cell_type": "code",
   "execution_count": null,
   "id": "e5b88468-542c-4415-a54e-e8d49ae55faf",
   "metadata": {},
   "outputs": [],
   "source": [
    "prior.prior[\"solution_dense::biomass\"].isel(time_dense=0)"
   ]
  },
  {
   "cell_type": "code",
   "execution_count": null,
   "id": "bb35b99a-bd64-4ace-8364-2d5d6e07b73b",
   "metadata": {},
   "outputs": [],
   "source": [
    "np.log(prior.prior[\"solution_dense::nitrite\"].isel(time_dense=1))"
   ]
  },
  {
   "cell_type": "code",
   "execution_count": null,
   "id": "4d6daa67-cbc1-43d7-a186-3d0de92223f0",
   "metadata": {},
   "outputs": [],
   "source": [
    "func = compiled._make_logp_func()"
   ]
  },
  {
   "cell_type": "code",
   "execution_count": null,
   "id": "ac296b8d-6afb-44c8-8a08-c5f444da179d",
   "metadata": {},
   "outputs": [],
   "source": [
    "%%time\n",
    "func(compiled._make_initial_points(51))"
   ]
  },
  {
   "cell_type": "code",
   "execution_count": null,
   "id": "060d9c6c-2124-43b3-9df6-9f480d8e15d6",
   "metadata": {},
   "outputs": [],
   "source": [
    "compiled = compiled.with_transform_adapt(\n",
    "    verbose=True,\n",
    "    show_progress=True,\n",
    "    max_patience=50,\n",
    "    num_layers=20,\n",
    "    # window_size=256,\n",
    "    num_diag_windows=7,\n",
    "    nn_width=32,\n",
    "    nn_depth=2,\n",
    "    debug_save_bijection=True,\n",
    ")\n",
    "\n",
    "sampler = nutpie.sample(\n",
    "    compiled,\n",
    "    tune=2000,\n",
    "    chains=1,\n",
    "    transform_adapt=True,\n",
    "    store_unconstrained=True,\n",
    "    store_gradient=True,\n",
    "    store_divergences=True,\n",
    "    # window_switch_freq=128,\n",
    "    maxdepth=9,\n",
    "    blocking=False,\n",
    "    seed=42,\n",
    "    progress_rate=1000,\n",
    "    # max_energy_error=10,\n",
    ")"
   ]
  },
  {
   "cell_type": "code",
   "execution_count": null,
   "id": "98a1ec5b-9ab8-412f-816b-5eb16aad73f2",
   "metadata": {},
   "outputs": [],
   "source": [
    "def box_cox(x, lam):\n",
    "    return (x**lam - 1) / lam\n",
    "\n",
    "\n",
    "x = np.linspace(-10, 10, 1000)"
   ]
  },
  {
   "cell_type": "code",
   "execution_count": null,
   "id": "7b9a1f2f-2229-4a04-a9f4-15172e68360c",
   "metadata": {},
   "outputs": [],
   "source": [
    "plt.plot(x, box_cox(x, 0.2))"
   ]
  },
  {
   "cell_type": "code",
   "execution_count": null,
   "id": "b4f28878-d24e-4083-92ec-39605ef7d208",
   "metadata": {},
   "outputs": [],
   "source": [
    "trace.to_netcdf(\"trace-nf-nn.nc\")"
   ]
  },
  {
   "cell_type": "code",
   "execution_count": null,
   "id": "de598682-a13a-4432-aa84-db75b01829be",
   "metadata": {},
   "outputs": [],
   "source": [
    "trace = sampler.inspect()"
   ]
  },
  {
   "cell_type": "code",
   "execution_count": null,
   "id": "ff250082-c2a1-47cd-ab99-491e3d9a092a",
   "metadata": {},
   "outputs": [],
   "source": [
    "trace.warmup_sample_stats.draw"
   ]
  },
  {
   "cell_type": "code",
   "execution_count": null,
   "id": "ae367a46-7824-42a2-b7f7-a4cffca7d2a0",
   "metadata": {},
   "outputs": [],
   "source": [
    "out = sampler.abort()"
   ]
  },
  {
   "cell_type": "code",
   "execution_count": null,
   "id": "3ff99a06-70b6-4781-ab90-17216f74e194",
   "metadata": {},
   "outputs": [],
   "source": [
    "grad = trace.warmup_sample_stats.transformed_gradient.isel(\n",
    "    draw=slice(-1000, None), chain=0\n",
    ")\n",
    "draw = trace.warmup_sample_stats.transformed_position.isel(\n",
    "    draw=slice(-1000, None), chain=0\n",
    ")"
   ]
  },
  {
   "cell_type": "code",
   "execution_count": null,
   "id": "7daed94c-d1b3-45af-a262-f474fc60b264",
   "metadata": {},
   "outputs": [],
   "source": [
    "loss = (grad + draw) ** 2"
   ]
  },
  {
   "cell_type": "code",
   "execution_count": null,
   "id": "2a9eb3d4-5e6d-496e-9a63-3f11e4bf2da2",
   "metadata": {},
   "outputs": [],
   "source": [
    "import scipy"
   ]
  },
  {
   "cell_type": "code",
   "execution_count": null,
   "id": "792aac12-af9f-4ebb-b346-906fc3e455a6",
   "metadata": {},
   "outputs": [],
   "source": [
    "diag = np.sqrt(draw.std(\"draw\") / grad.std(\"draw\"))"
   ]
  },
  {
   "cell_type": "code",
   "execution_count": null,
   "id": "da886a50-25f7-4c6e-8c1f-818c36384e70",
   "metadata": {},
   "outputs": [],
   "source": [
    "diag"
   ]
  },
  {
   "cell_type": "code",
   "execution_count": null,
   "id": "ec0aca86-874c-445b-8879-a338c701575c",
   "metadata": {},
   "outputs": [],
   "source": [
    "plt.scatter(\n",
    "    draw.isel(unconstrained_parameter=3),\n",
    "    grad.isel(unconstrained_parameter=3),\n",
    ")"
   ]
  },
  {
   "cell_type": "code",
   "execution_count": null,
   "id": "3c707d26-c2e6-4889-8c61-ead178b0d118",
   "metadata": {},
   "outputs": [],
   "source": [
    "loss.mean(\"draw\").to_pandas().sort_values()"
   ]
  },
  {
   "cell_type": "code",
   "execution_count": null,
   "id": "40328e6c-e7cf-45f9-973e-a51434a50834",
   "metadata": {},
   "outputs": [],
   "source": [
    "np.log10(trace.warmup_sample_stats.step_size).plot.line(x=\"draw\")"
   ]
  },
  {
   "cell_type": "code",
   "execution_count": null,
   "id": "dcbb7b53-190b-4bb1-bb2b-af0beebbb65c",
   "metadata": {},
   "outputs": [],
   "source": [
    "_, fit, points = nutpie.transform_adapter._BIJECTION_TRACE[-1]"
   ]
  },
  {
   "cell_type": "code",
   "execution_count": null,
   "id": "86664584-95d5-4560-84d1-349e3275d44b",
   "metadata": {},
   "outputs": [],
   "source": [
    "sns.heatmap(fit.bijections[0].bijection.bijections[1].params, center=0)"
   ]
  },
  {
   "cell_type": "code",
   "execution_count": null,
   "id": "78b85c98-ff54-446c-9047-e87b449de833",
   "metadata": {},
   "outputs": [],
   "source": [
    "# sampler.abort()"
   ]
  },
  {
   "cell_type": "code",
   "execution_count": null,
   "id": "a9907a89-2217-4978-aa5e-d70641e3fdd2",
   "metadata": {},
   "outputs": [],
   "source": [
    "arviz.plot_trace((trace.warmup_posterior), var_names=[\"sigma\"], filter_vars=\"like\")\n",
    "plt.tight_layout()"
   ]
  },
  {
   "cell_type": "code",
   "execution_count": null,
   "id": "9f2313f1-814d-4655-9adb-27fc0d386a48",
   "metadata": {},
   "outputs": [],
   "source": [
    "arviz.plot_trace(\n",
    "    (trace.warmup_posterior), var_names=[\"nitrite::sigma\", \"biomass::sigma\"]\n",
    ");"
   ]
  },
  {
   "cell_type": "code",
   "execution_count": null,
   "id": "7073c442-168c-42ab-a9d2-161a3d53aa07",
   "metadata": {},
   "outputs": [],
   "source": [
    "arviz.plot_trace((trace.warmup_posterior), var_names=[\"nn::val1\"]);"
   ]
  },
  {
   "cell_type": "code",
   "execution_count": null,
   "id": "01dc6ac4-8157-4dcf-9a3c-6c3ac556a45b",
   "metadata": {},
   "outputs": [],
   "source": [
    "arviz.plot_trace((trace.warmup_posterior), var_names=[\"nn::val2\"]);"
   ]
  },
  {
   "cell_type": "code",
   "execution_count": null,
   "id": "0fb4d6df-f37f-4960-9165-7b5d7d5811b9",
   "metadata": {},
   "outputs": [],
   "source": [
    "arviz.plot_trace((trace.warmup_posterior), var_names=[\"nn::val3\"]);"
   ]
  },
  {
   "cell_type": "code",
   "execution_count": null,
   "id": "877c42e5-4944-421c-830a-76313f0ed953",
   "metadata": {},
   "outputs": [],
   "source": [
    "arviz.plot_trace((trace.warmup_posterior), var_names=[\"nn::val4\"]);"
   ]
  },
  {
   "cell_type": "code",
   "execution_count": null,
   "id": "b827e5be-66f7-4039-8382-4e910444ec23",
   "metadata": {},
   "outputs": [],
   "source": [
    "arviz.plot_trace(\n",
    "    trace.warmup_posterior.isel(draw=slice(10, None)),\n",
    "    var_names=[var.name for var in model.free_RVs],\n",
    ")\n",
    "plt.tight_layout();"
   ]
  },
  {
   "cell_type": "code",
   "execution_count": null,
   "id": "2f6cf48c-244d-45d7-950f-0caee23af221",
   "metadata": {},
   "outputs": [],
   "source": [
    "trace.warmup_posterior.isel(draw=slice(-800, None)).assign_coords(**coords)[\n",
    "    \"solution_dense::biomass\"\n",
    "].plot.line(x=\"time_dense\", col=\"chain\", hue=\"draw\", add_legend=False)\n",
    "plt.scatter(\n",
    "    biomass.time,\n",
    "    biomass.mean(\"replicate\"),\n",
    "    zorder=1000,\n",
    ")"
   ]
  },
  {
   "cell_type": "code",
   "execution_count": null,
   "id": "8af0be11-48f3-4174-998b-1d4679b67ef4",
   "metadata": {},
   "outputs": [],
   "source": [
    "trace.posterior.assign_coords(**coords)[\"solution_dense::biomass\"].plot.line(\n",
    "    x=\"time_dense\", col=\"chain\", hue=\"draw\", add_legend=False\n",
    ")\n",
    "plt.scatter(\n",
    "    biomass.time,\n",
    "    biomass.mean(\"replicate\"),\n",
    "    zorder=1000,\n",
    ")"
   ]
  },
  {
   "cell_type": "code",
   "execution_count": null,
   "id": "0d765a5b-ea05-497e-ae6a-abadbdea7db6",
   "metadata": {},
   "outputs": [],
   "source": [
    "trace.warmup_posterior.isel(draw=slice(-800, None)).assign_coords(**coords)[\n",
    "    \"solution_dense::nitrite\"\n",
    "].plot.line(x=\"time_dense\", col=\"chain\", hue=\"draw\", add_legend=False)\n",
    "plt.scatter(\n",
    "    nitrite.time,\n",
    "    nitrite.mean(\"replicate\"),\n",
    "    zorder=1000,\n",
    ")\n",
    "# plt.yscale(\"log\")"
   ]
  },
  {
   "cell_type": "code",
   "execution_count": null,
   "id": "5ed54ced-88f9-49d0-936c-757cbd44199d",
   "metadata": {},
   "outputs": [],
   "source": [
    "np.exp(\n",
    "    trace.warmup_posterior.isel(draw=slice(-20, None)).assign_coords(**coords)[\n",
    "        \"nitrite::with_rel_error\"\n",
    "    ]\n",
    ").plot.line(\n",
    "    x=\"nitrite::with_rel_error_dim_0\", col=\"chain\", hue=\"draw\", add_legend=False\n",
    ")\n",
    "plt.scatter(\n",
    "    np.arange(len(nitrite.time)) * 1.8,\n",
    "    nitrite.mean(\"replicate\"),\n",
    "    zorder=1000,\n",
    ")\n",
    "plt.yscale(\"log\")\n",
    "plt.ylim(np.exp(-25), 1)"
   ]
  },
  {
   "cell_type": "code",
   "execution_count": null,
   "id": "6141c9b8-8430-4854-bd05-53e44677d019",
   "metadata": {},
   "outputs": [],
   "source": [
    "trace.warmup_posterior.isel(draw=slice(-20, None)).assign_coords(**coords)[\n",
    "    \"solution_dense::nitrite\"\n",
    "].plot.line(x=\"time_dense\", col=\"chain\", hue=\"draw\", add_legend=False)\n",
    "plt.scatter(\n",
    "    nitrite.time,\n",
    "    nitrite.mean(\"replicate\"),\n",
    "    zorder=1000,\n",
    ")\n",
    "plt.yscale(\"log\")\n",
    "plt.ylim(np.exp(-25), 1)"
   ]
  },
  {
   "cell_type": "code",
   "execution_count": null,
   "id": "f578b92e-7cd6-47c5-9b3e-b2613c13b07a",
   "metadata": {},
   "outputs": [],
   "source": [
    "trace.warmup_posterior.isel(draw=slice(-50, None)).assign_coords(**coords)[\n",
    "    \"solution_dense::oxygen_liq\"\n",
    "].plot.line(x=\"time_dense\", col=\"chain\", hue=\"draw\", add_legend=False)\n",
    "# plt.yscale(\"log\")\n",
    "ax2 = plt.twinx()\n",
    "data[\"O2\"].plot.line(x=\"time\", ax=ax2, marker=\"+\");\n",
    "# ax2.set_yscale(\"log\")"
   ]
  },
  {
   "cell_type": "code",
   "execution_count": null,
   "id": "5a66ac00-eef5-4d69-946e-5dc76dcff6fb",
   "metadata": {},
   "outputs": [],
   "source": []
  },
  {
   "cell_type": "code",
   "execution_count": null,
   "id": "0e59de9a-1b3d-493e-ba4a-28894f8f33c1",
   "metadata": {},
   "outputs": [],
   "source": [
    "sns.heatmap(trace.warmup_posterior.isel(draw=-1, chain=0)[\"nn::val1\"], center=0)"
   ]
  },
  {
   "cell_type": "code",
   "execution_count": null,
   "id": "335110be-a9ff-4417-9528-35f8ee07c1f5",
   "metadata": {},
   "outputs": [],
   "source": [
    "sns.heatmap(trace.warmup_posterior.isel(draw=-1, chain=0)[\"nn::val3\"], center=0)"
   ]
  },
  {
   "cell_type": "code",
   "execution_count": null,
   "id": "12dc9a2b-dcdd-4983-ab6b-a8977552a9bc",
   "metadata": {},
   "outputs": [],
   "source": [
    "trace.warmup_posterior.isel(draw=-1, chain=0)[\"nn::val2\"].plot.line()"
   ]
  },
  {
   "cell_type": "code",
   "execution_count": null,
   "id": "37801460-2ed7-4801-accd-108164b2ec2a",
   "metadata": {},
   "outputs": [],
   "source": [
    "trace.warmup_posterior.isel(draw=-1, chain=0)[\"nn::val4\"].plot.line()"
   ]
  },
  {
   "cell_type": "code",
   "execution_count": null,
   "id": "9e3163e4-21d5-456c-90c4-7ff370a1db07",
   "metadata": {},
   "outputs": [],
   "source": [
    "arviz.plot_pair(\n",
    "    trace.warmup_sample_stats.isel(draw=slice(-500, None)),\n",
    "    var_names=[\"unconstrained_draw\"],\n",
    "    filter_vars=\"like\",\n",
    ");"
   ]
  },
  {
   "cell_type": "code",
   "execution_count": null,
   "id": "b9f77762-9fbf-40d2-9963-94b258636a71",
   "metadata": {},
   "outputs": [],
   "source": [
    "arviz.plot_pair(\n",
    "    trace.warmup_sample_stats.isel(draw=slice(-1000, None)),\n",
    "    var_names=[\"transformed_position\"],\n",
    "    filter_vars=\"like\",\n",
    ");"
   ]
  },
  {
   "cell_type": "code",
   "execution_count": null,
   "id": "1d16aa52-15ec-4a1a-87ad-b699d83f8175",
   "metadata": {},
   "outputs": [],
   "source": [
    "arviz.plot_pair(\n",
    "    trace.sample_stats,\n",
    "    var_names=[\"unconstrained_draw\"],\n",
    "    filter_vars=\"like\",\n",
    ");"
   ]
  },
  {
   "cell_type": "code",
   "execution_count": null,
   "id": "8c67e013-0e5e-4791-ac53-6bec0b4658e9",
   "metadata": {},
   "outputs": [],
   "source": [
    "arviz.plot_pair(\n",
    "    trace.sample_stats,\n",
    "    var_names=[\"transformed_position\"],\n",
    "    filter_vars=\"like\",\n",
    ");"
   ]
  },
  {
   "cell_type": "code",
   "execution_count": null,
   "id": "3c2f96ed-3040-4183-8511-b4d79ca8857a",
   "metadata": {},
   "outputs": [],
   "source": []
  }
 ],
 "metadata": {
  "kernelspec": {
   "display_name": "Python (Pixi)",
   "language": "python",
   "name": "pixi-kernel-python3"
  },
  "language_info": {
   "codemirror_mode": {
    "name": "ipython",
    "version": 3
   },
   "file_extension": ".py",
   "mimetype": "text/x-python",
   "name": "python",
   "nbconvert_exporter": "python",
   "pygments_lexer": "ipython3",
   "version": "3.13.2"
  }
 },
 "nbformat": 4,
 "nbformat_minor": 5
}
