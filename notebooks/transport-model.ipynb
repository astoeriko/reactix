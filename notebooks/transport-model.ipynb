{
 "cells": [
  {
   "cell_type": "code",
   "execution_count": null,
   "id": "9ff039d9-af08-4303-a907-5db4a96050e6",
   "metadata": {},
   "outputs": [],
   "source": [
    "import jax\n",
    "import jax.numpy as jnp\n",
    "\n",
    "from kinetix.transport import (\n",
    "    Advection,\n",
    "    Cells,\n",
    "    Dispersion,\n",
    "    FixedConcentrationBoundary,\n",
    "    Species,\n",
    "    System,\n",
    "    make_solver,\n",
    ")"
   ]
  },
  {
   "cell_type": "code",
   "execution_count": null,
   "id": "1721c501-5617-420d-afd0-012d4ab732d4",
   "metadata": {},
   "outputs": [],
   "source": [
    "jax.config.update(\"jax_enable_x64\", True)"
   ]
  },
  {
   "cell_type": "code",
   "execution_count": null,
   "id": "473e110c-20dd-4513-829f-de246615cd93",
   "metadata": {},
   "outputs": [],
   "source": [
    "cells = Cells.equally_spaced(10, 200)"
   ]
  },
  {
   "cell_type": "code",
   "execution_count": null,
   "id": "7750b426-7388-40b4-b70c-3ecb2b8fde83",
   "metadata": {},
   "outputs": [],
   "source": [
    "dispersion = Dispersion(\n",
    "    dispersivity=jnp.array(0.1),\n",
    "    pore_diffusion=Species(\n",
    "        tracer=jnp.array(1e-9 * 3600 * 24),\n",
    "    ),\n",
    ")"
   ]
  },
  {
   "cell_type": "code",
   "execution_count": null,
   "id": "ee3fa168-e5ae-41a7-abd3-d74edede5ceb",
   "metadata": {},
   "outputs": [],
   "source": [
    "advection = Advection(\n",
    "    limiter_type=\"minmod\"\n",
    ")"
   ]
  },
  {
   "cell_type": "code",
   "execution_count": null,
   "id": "40950494-ed3a-46f0-99e9-c5451006b1ff",
   "metadata": {},
   "outputs": [],
   "source": [
    "bcs = [\n",
    "    FixedConcentrationBoundary(\n",
    "        is_active=lambda t, system: t < 1500,\n",
    "        left=True,\n",
    "        species_selector=lambda s: getattr(s, \"tracer\"),\n",
    "        fixed_concentration=lambda t: jnp.array(10.0),\n",
    "    ),\n",
    "]"
   ]
  },
  {
   "cell_type": "code",
   "execution_count": null,
   "id": "f76e3683-4f15-463a-84a7-c0d17baa5324",
   "metadata": {},
   "outputs": [],
   "source": [
    "system = System(\n",
    "    porosity=jnp.array(0.3),\n",
    "    velocity=jnp.array(1 / 365),\n",
    "    cells=cells,\n",
    "    advection=advection,\n",
    "    dispersion=dispersion,\n",
    "    bcs=bcs\n",
    ")"
   ]
  },
  {
   "cell_type": "code",
   "execution_count": null,
   "id": "1eddde22-569f-4721-b358-040e5f7ddd99",
   "metadata": {},
   "outputs": [],
   "source": [
    "t_points = jnp.linspace(0, 3000, 123)\n",
    "solver = make_solver(t_max=5000, t_points=t_points, rtol=1e-3, atol=1e-3)"
   ]
  },
  {
   "cell_type": "code",
   "execution_count": null,
   "id": "69ceaa5c-6493-4fc9-9ddb-a2a39573f4e5",
   "metadata": {},
   "outputs": [],
   "source": [
    "val0 = jnp.zeros(cells.n_cells)\n",
    "#val0 = val0.at[slice(10,20)].set(10.0)\n",
    "\n",
    "state = Species(\n",
    "    tracer=val0,\n",
    ")\n",
    "\n",
    "solution = solver(state, system)"
   ]
  },
  {
   "cell_type": "code",
   "execution_count": null,
   "id": "9f762960-9dd4-49e9-9e40-1c391c537dc5",
   "metadata": {},
   "outputs": [],
   "source": [
    "import matplotlib.pyplot as plt"
   ]
  },
  {
   "cell_type": "code",
   "execution_count": null,
   "id": "7fa01d18-118c-438b-bfbd-3cfdcf7822ae",
   "metadata": {},
   "outputs": [],
   "source": [
    "solution.ys.tracer.sum(1)"
   ]
  },
  {
   "cell_type": "code",
   "execution_count": null,
   "id": "38c53697-1631-4bec-8fe8-5492174e7bf2",
   "metadata": {},
   "outputs": [],
   "source": [
    "plt.plot(cells.centers[:], solution.ys.tracer.T[:,0::10]);"
   ]
  },
  {
   "cell_type": "code",
   "execution_count": null,
   "id": "85d0153f-f5f6-4238-a1c1-2a4ec717147c",
   "metadata": {},
   "outputs": [],
   "source": [
    "import numpy as np"
   ]
  },
  {
   "cell_type": "code",
   "execution_count": null,
   "id": "6806ab17-edd2-4dcd-b85b-e5e0fdb1924c",
   "metadata": {},
   "outputs": [],
   "source": [
    "# numerical dispersion coefficient due to the upstream weighting (see EnviMod2 script page 91) (this is for a fully implicit scheme)\n",
    "np.abs(system.velocity) * 0.1 / 2"
   ]
  },
  {
   "cell_type": "code",
   "execution_count": null,
   "id": "3f79a628-ab04-46dc-938d-67f43aa60934",
   "metadata": {},
   "outputs": [],
   "source": [
    "dispersion.dispersivity * np.abs(system.velocity)"
   ]
  },
  {
   "cell_type": "code",
   "execution_count": null,
   "id": "9d63f57f-17ef-4414-a9d4-a5c674efbca7",
   "metadata": {},
   "outputs": [],
   "source": []
  }
 ],
 "metadata": {
  "kernelspec": {
   "display_name": "default",
   "language": "python",
   "name": "python3"
  },
  "language_info": {
   "codemirror_mode": {
    "name": "ipython",
    "version": 3
   },
   "file_extension": ".py",
   "mimetype": "text/x-python",
   "name": "python",
   "nbconvert_exporter": "python",
   "pygments_lexer": "ipython3",
   "version": "3.13.3"
  }
 },
 "nbformat": 4,
 "nbformat_minor": 5
}
