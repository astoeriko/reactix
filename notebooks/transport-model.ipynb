{
 "cells": [
  {
   "cell_type": "code",
   "execution_count": null,
   "id": "0e502ffa-ff80-4be1-b535-c2294c70897d",
   "metadata": {},
   "outputs": [],
   "source": [
    "import jax\n",
    "import jax.numpy as jnp\n",
    "import equinox as eqx\n",
    "\n",
    "from dataclasses import dataclass"
   ]
  },
  {
   "cell_type": "code",
   "execution_count": null,
   "id": "1721c501-5617-420d-afd0-012d4ab732d4",
   "metadata": {},
   "outputs": [],
   "source": [
    "import jax\n",
    "\n",
    "jax.config.update(\"jax_enable_x64\", True)"
   ]
  },
  {
   "cell_type": "code",
   "execution_count": null,
   "id": "8655ee9c-ff59-4458-853d-fbd8791b3b90",
   "metadata": {},
   "outputs": [],
   "source": [
    "@jax.tree_util.register_dataclass\n",
    "@dataclass(frozen=True)\n",
    "class Species:\n",
    "    tracer: jax.Array\n",
    "\n",
    "    @classmethod\n",
    "    def zeros(cls) -> \"Species\":\n",
    "        return Species(tracer=jnp.zeros(()))\n",
    "\n",
    "    def add(self, name, value) -> \"Species\":\n",
    "        return dataclasses.replace(self, **{name: value + getattr(self, name)})\n",
    "\n",
    "\n",
    "@jax.tree_util.register_dataclass\n",
    "@dataclass(frozen=True)\n",
    "class Cells:\n",
    "    n_cells: int\n",
    "    # The x coordinate of the center of each cell. Shape = (n_cells,)\n",
    "    centers: jax.Array\n",
    "    # The x coordinate of the point between cells,\n",
    "    # and the first and last boundary. Shape = (n_cells + 1,)\n",
    "    nodes: jax.Array\n",
    "\n",
    "    def cell_length(self) -> jax.Array:\n",
    "        return self.node[1:] - self.node[:-1]\n",
    "\n",
    "    @classmethod\n",
    "    def equally_spaced(cls, length, n_cells):\n",
    "        nodes = jnp.linspace(0, length, n_cells + 1)\n",
    "        return Cells(\n",
    "            n_cells=n_cells,\n",
    "            nodes=nodes,\n",
    "            centers=(nodes[1:] - nodes[:-1]) / 2 + nodes[:-1],\n",
    "        )\n",
    "\n",
    "\n",
    "@jax.tree_util.register_dataclass\n",
    "@dataclass(frozen=True)\n",
    "class System:\n",
    "    porosity: jax.Array\n",
    "    velocity: jax.Array\n",
    "    cells: Cells\n",
    "    # retardation_factor: Species\n",
    "\n",
    "\n",
    "@jax.tree_util.register_dataclass\n",
    "@dataclass(frozen=True)\n",
    "class BoundaryCondition:\n",
    "    def left_flux(self) -> jax.Array:\n",
    "        return jnp.array(0.0)\n",
    "\n",
    "    def right_flux(self) -> jax.Array:\n",
    "        return jnp.array(0.0)\n",
    "\n",
    "\n",
    "@jax.tree_util.register_dataclass\n",
    "@dataclass(frozen=True)\n",
    "class Advection:\n",
    "    boundary_condition: Species\n",
    "\n",
    "    def rate(self, state: Species, system: System) -> Species:\n",
    "        # Rate for a single species\n",
    "        def flat_rate(concentration, bc: BoundaryCondition):\n",
    "            # Positive velocity – central differentiation\n",
    "            flux = system.velocity * (concentration[:-2] - concentration[2:]) / 2\n",
    "            boundary_flux = bc.left_flux()[None]\n",
    "            first_cell_rate = boundary_flux - system.velocity * (concentration[0] + concentration[1]) / 2\n",
    "            # For the last cell, use upstream weighting, so I can compute the flux over the boundary\n",
    "            last_cell_rate = jnp.array(system.velocity * (concentration[-2] - concentration[-1]))[None]\n",
    "            pos_flux = jnp.concatenate([first_cell_rate, flux, last_cell_rate])\n",
    "\n",
    "            # Negative velocity\n",
    "            flux = system.velocity * (concentration[1:] - concentration[:-1])\n",
    "            boundary_flux = bc.right_flux()[None]\n",
    "            last_cell_rate = boundary_flux - system.velocity * concentration[-1]\n",
    "            neg_flux = jnp.concatenate([flux, last_cell_rate])\n",
    "\n",
    "            flux = jnp.where(system.velocity < 0, neg_flux, pos_flux)\n",
    "            return flux / (cells.nodes[1:] - cells.nodes[:-1])\n",
    "\n",
    "        return jax.tree.map(flat_rate, state, self.boundary_condition)\n",
    "\n",
    "\n",
    "@jax.tree_util.register_dataclass\n",
    "@dataclass(frozen=True)\n",
    "class Dispersion:\n",
    "    # Longitudinal dispersivity\n",
    "    dispersivity: jax.Array\n",
    "    # pore diffusion coefficient\n",
    "    pore_diffusion: Species\n",
    "    boundary_condition: Species\n",
    "\n",
    "    def rate(self, state: Species, system: System) -> Species:\n",
    "        def flat_rate(concentration, pore_diffusion, bc: BoundaryCondition):\n",
    "            coef = jnp.abs(system.velocity) * self.dispersivity + pore_diffusion\n",
    "\n",
    "            diffs = jnp.diff(concentration)\n",
    "            dc_dx = diffs / (cells.centers[1:] - cells.centers[:-1])\n",
    "            dx = cells.nodes[1:] - cells.nodes[:-1]\n",
    "            flux = -dc_dx * coef\n",
    "\n",
    "            return (\n",
    "                jnp.concatenate(\n",
    "                    [\n",
    "                        bc.left_flux()[None],\n",
    "                        flux,\n",
    "                    ]\n",
    "                )\n",
    "                - jnp.concatenate(\n",
    "                    [\n",
    "                        flux,\n",
    "                        bc.right_flux()[None],\n",
    "                    ]\n",
    "                )\n",
    "            ) / dx\n",
    "\n",
    "        return jax.tree.map(\n",
    "            flat_rate, state, self.pore_diffusion, self.boundary_condition\n",
    "        )"
   ]
  },
  {
   "cell_type": "code",
   "execution_count": null,
   "id": "473e110c-20dd-4513-829f-de246615cd93",
   "metadata": {},
   "outputs": [],
   "source": [
    "cells = Cells.equally_spaced(10, 100)"
   ]
  },
  {
   "cell_type": "code",
   "execution_count": null,
   "id": "f76e3683-4f15-463a-84a7-c0d17baa5324",
   "metadata": {},
   "outputs": [],
   "source": [
    "system = System(\n",
    "    porosity=0.3,\n",
    "    velocity=1 / 365,\n",
    "    cells=cells,\n",
    ")"
   ]
  },
  {
   "cell_type": "code",
   "execution_count": null,
   "id": "7750b426-7388-40b4-b70c-3ecb2b8fde83",
   "metadata": {},
   "outputs": [],
   "source": [
    "dispersion = Dispersion(\n",
    "    dispersivity=0.1,\n",
    "    pore_diffusion=Species(\n",
    "        tracer=1e-9 * 3600 * 24,\n",
    "    ),\n",
    "    boundary_condition=Species(\n",
    "        tracer=BoundaryCondition(),\n",
    "    ),\n",
    ")"
   ]
  },
  {
   "cell_type": "code",
   "execution_count": null,
   "id": "ee3fa168-e5ae-41a7-abd3-d74edede5ceb",
   "metadata": {},
   "outputs": [],
   "source": [
    "advection = Advection(\n",
    "    boundary_condition=Species(\n",
    "        tracer=BoundaryCondition(),\n",
    "    ),\n",
    ")"
   ]
  },
  {
   "cell_type": "code",
   "execution_count": null,
   "id": "49998b94-0b00-4de1-907e-9cd9c3164902",
   "metadata": {},
   "outputs": [],
   "source": [
    "import diffrax\n",
    "from functools import reduce\n",
    "\n",
    "def rhs(t, state, args):\n",
    "    #(system, advection, dispersion) = args\n",
    "    (system, advection) = args\n",
    "\n",
    "    #total_rate = jax.tree_map(lambda x, y: x + y, dispersion.rate(state, system), advection.rate(state, system))\n",
    "    return advection.rate(state, system)\n",
    "\n",
    "\n",
    "cpu_device = jax.devices(\"cpu\")[0]\n",
    "\n",
    "\n",
    "def make_solver(*, t_max, t_points, rtol=1e-8, atol=1e-8, solver=None, t0=0, dt0=None):\n",
    "    if solver is None:\n",
    "        # solver = diffrax.Dopri5()\n",
    "        solver = diffrax.Tsit5()\n",
    "        # root_finder = optimistix.Dogleg(rtol=1e-9, atol=1e-9, norm=optimistix.two_norm)\n",
    "        # solver = diffrax.Kvaerno3(root_find_max_steps=10, root_finder=root_finder)\n",
    "        # solver = diffrax.Kvaerno3()\n",
    "\n",
    "    term = diffrax.ODETerm(rhs)\n",
    "    stepsize_controller = diffrax.PIDController(\n",
    "        rtol=rtol,\n",
    "        atol=atol,\n",
    "        #dtmax=\n",
    "        # norm=optimistix.two_norm,\n",
    "    )\n",
    "    t_vals = diffrax.SaveAt(ts=t_points)\n",
    "\n",
    "    @eqx.filter_jit(device=cpu_device)\n",
    "    def solve(y0: Species, args):\n",
    "        result = diffrax.diffeqsolve(\n",
    "            term,\n",
    "            solver,\n",
    "            t0=t0,\n",
    "            t1=t_max,\n",
    "            dt0=dt0,\n",
    "            y0=y0,\n",
    "            saveat=t_vals,\n",
    "            args=args,\n",
    "            stepsize_controller=stepsize_controller,\n",
    "            max_steps=1024 * 32 * 64,\n",
    "        )\n",
    "        return result\n",
    "\n",
    "    return solve"
   ]
  },
  {
   "cell_type": "code",
   "execution_count": null,
   "id": "b06e9d38-7a90-42d0-9dc7-87a11a6b19f2",
   "metadata": {},
   "outputs": [],
   "source": [
    "cells.nodes"
   ]
  },
  {
   "cell_type": "code",
   "execution_count": null,
   "id": "1eddde22-569f-4721-b358-040e5f7ddd99",
   "metadata": {},
   "outputs": [],
   "source": [
    "t_points = jnp.linspace(0, 5000, 123)\n",
    "solver = make_solver(t_max=5000, t_points=t_points, rtol=1e-3, atol=1e-3)"
   ]
  },
  {
   "cell_type": "code",
   "execution_count": null,
   "id": "69ceaa5c-6493-4fc9-9ddb-a2a39573f4e5",
   "metadata": {},
   "outputs": [],
   "source": [
    "val0 = jnp.zeros(cells.n_cells)\n",
    "val0 = val0.at[slice(10,20)].set(10.0)\n",
    "\n",
    "state = Species(\n",
    "    tracer=val0,\n",
    ")\n",
    "\n",
    "solution = solver(state, (system, advection))"
   ]
  },
  {
   "cell_type": "code",
   "execution_count": null,
   "id": "9f762960-9dd4-49e9-9e40-1c391c537dc5",
   "metadata": {},
   "outputs": [],
   "source": [
    "import matplotlib.pyplot as plt"
   ]
  },
  {
   "cell_type": "code",
   "execution_count": null,
   "id": "7fa01d18-118c-438b-bfbd-3cfdcf7822ae",
   "metadata": {},
   "outputs": [],
   "source": [
    "solution.ys.tracer.sum(1)"
   ]
  },
  {
   "cell_type": "code",
   "execution_count": null,
   "id": "77bed77d-e895-4e09-bdfc-d6b0473dfa75",
   "metadata": {},
   "outputs": [],
   "source": [
    "plt.plot(cells.centers, solution.ys.tracer.T[:, ::10]);"
   ]
  },
  {
   "cell_type": "code",
   "execution_count": null,
   "id": "85d0153f-f5f6-4238-a1c1-2a4ec717147c",
   "metadata": {},
   "outputs": [],
   "source": [
    "import numpy as np"
   ]
  },
  {
   "cell_type": "code",
   "execution_count": null,
   "id": "6806ab17-edd2-4dcd-b85b-e5e0fdb1924c",
   "metadata": {},
   "outputs": [],
   "source": [
    "# numerical dispersion coefficient due to the upstream weighting (see EnviMod2 script page 91) (this is for a fully implicit scheme)\n",
    "np.abs(system.velocity) * 0.1 / 2"
   ]
  },
  {
   "cell_type": "code",
   "execution_count": null,
   "id": "3f79a628-ab04-46dc-938d-67f43aa60934",
   "metadata": {},
   "outputs": [],
   "source": [
    "dispersion.dispersivity * np.abs(system.velocity)"
   ]
  }
 ],
 "metadata": {
  "kernelspec": {
   "display_name": "Python 3 (ipykernel)",
   "language": "python",
   "name": "python3"
  },
  "language_info": {
   "codemirror_mode": {
    "name": "ipython",
    "version": 3
   },
   "file_extension": ".py",
   "mimetype": "text/x-python",
   "name": "python",
   "nbconvert_exporter": "python",
   "pygments_lexer": "ipython3",
   "version": "3.13.3"
  }
 },
 "nbformat": 4,
 "nbformat_minor": 5
}
