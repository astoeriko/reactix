{
 "cells": [
  {
   "cell_type": "code",
   "execution_count": null,
   "id": "9ff039d9-af08-4303-a907-5db4a96050e6",
   "metadata": {},
   "outputs": [],
   "source": [
    "import jax\n",
    "import jax.numpy as jnp\n",
    "import numpy as np\n",
    "import matplotlib.pyplot as plt\n",
    "\n",
    "from kinetix import (\n",
    "    Advection,\n",
    "    Cells,\n",
    "    Dispersion,\n",
    "    FixedConcentrationBoundary,\n",
    "    System,\n",
    "    make_solver,\n",
    "    declare_species,\n",
    "    KineticReaction,\n",
    "    reaction,\n",
    "    SpatiallyConst,\n",
    "    SpatiallyVarying\n",
    ")\n",
    "\n",
    "from dataclasses import dataclass"
   ]
  },
  {
   "cell_type": "code",
   "execution_count": null,
   "id": "bd011333",
   "metadata": {},
   "outputs": [],
   "source": [
    "Species = declare_species([\"tracer\", \"reactive_tracer\"])"
   ]
  },
  {
   "cell_type": "code",
   "execution_count": null,
   "id": "15bb6a7f",
   "metadata": {},
   "outputs": [],
   "source": [
    "@reaction\n",
    "class FirstOrderDecay(KineticReaction):\n",
    "    decay_coefficient: jax.Array\n",
    "\n",
    "    def rate(self, time, state, system):\n",
    "        return self.decay_coefficient * state.reactive_tracer\n",
    "\n",
    "    def stoichiometry(self, time, state, system):\n",
    "        return {\n",
    "            \"reactive_tracer\": -1,\n",
    "        }"
   ]
  },
  {
   "cell_type": "code",
   "execution_count": null,
   "id": "3c83cfac",
   "metadata": {},
   "outputs": [],
   "source": [
    "y = Species(tracer=1, reactive_tracer=5)\n",
    "FirstOrderDecay(decay_coefficient=0.3)._eval_dcdt(0, y, None)"
   ]
  },
  {
   "cell_type": "code",
   "execution_count": null,
   "id": "6b370d36",
   "metadata": {},
   "outputs": [],
   "source": [
    "n_cells = 200\n",
    "FirstOrderDecay(decay_coefficient=SpatiallyVarying(jnp.ones(n_cells)))"
   ]
  },
  {
   "cell_type": "code",
   "execution_count": null,
   "id": "add50723",
   "metadata": {},
   "outputs": [],
   "source": [
    "reactions = [FirstOrderDecay(decay_coefficient=1/1000)]"
   ]
  },
  {
   "cell_type": "code",
   "execution_count": null,
   "id": "1721c501-5617-420d-afd0-012d4ab732d4",
   "metadata": {},
   "outputs": [],
   "source": [
    "jax.config.update(\"jax_enable_x64\", True)\n",
    "n_cells = 200\n",
    "interface_areas = jnp.ones(n_cells + 1)\n",
    "#interface_areas = interface_areas.at[100:].set(2)\n",
    "cells = Cells.equally_spaced(10, n_cells, interface_area=interface_areas)\n",
    "dispersion = Dispersion.build(\n",
    "    cells=cells,\n",
    "    dispersivity=jnp.array(0.1),\n",
    "    pore_diffusion=Species(\n",
    "        tracer=jnp.array(1e-9 * 3600 * 24),\n",
    "        reactive_tracer=jnp.array(1e-9 * 3600 * 24),\n",
    "    ),\n",
    ")\n",
    "advection = Advection.build(\n",
    "    limiter_type=\"minmod\",\n",
    ")\n",
    "bcs = [\n",
    "    FixedConcentrationBoundary(\n",
    "        boundary=\"left\",\n",
    "        species_selector=lambda s: getattr(s, \"tracer\"),\n",
    "        fixed_concentration=lambda t: jnp.array(10.0),\n",
    "    ),\n",
    "    FixedConcentrationBoundary(\n",
    "        boundary=\"right\",\n",
    "        species_selector=lambda s: getattr(s, \"tracer\"),\n",
    "        fixed_concentration=lambda t: jnp.array(3.0),\n",
    "    ),\n",
    "    FixedConcentrationBoundary(\n",
    "        boundary=\"left\",\n",
    "        species_selector=lambda s: getattr(s, \"reactive_tracer\"),\n",
    "        fixed_concentration=lambda t: jnp.array(10.0),\n",
    "    ),\n",
    "    FixedConcentrationBoundary(\n",
    "        boundary=\"right\",\n",
    "        species_selector=lambda s: getattr(s, \"reactive_tracer\"),\n",
    "        fixed_concentration=lambda t: jnp.array(3.0),\n",
    "    )\n",
    "]\n",
    "\n",
    "porosity= jnp.ones(n_cells) * 0.3\n",
    "porosity = porosity.at[100:].set(0.1)\n",
    "system = System.build(\n",
    "    porosity=porosity,\n",
    "    # velocity=lambda t: jnp.array(1 / 365) * jnp.sin(np.pi * 2 * 1 / 5000 * t),\n",
    "    discharge=lambda t: jnp.array(1 / 365) * 0.3,\n",
    "    cells=cells,\n",
    "    advection=advection,\n",
    "    dispersion=dispersion,\n",
    "    bcs=bcs,\n",
    "    reactions=reactions\n",
    ")"
   ]
  },
  {
   "cell_type": "code",
   "execution_count": null,
   "id": "1eddde22-569f-4721-b358-040e5f7ddd99",
   "metadata": {},
   "outputs": [],
   "source": [
    "t_points = jnp.linspace(0, 8000, 123)\n",
    "solver = make_solver(t_max=8000, t_points=t_points, rtol=1e-3, atol=1e-3)\n",
    "val0 = jnp.zeros(cells.n_cells)\n",
    "#val0 = val0.at[slice(10,20)].set(10.0)\n",
    "\n",
    "state = Species(\n",
    "    tracer=val0,\n",
    "    reactive_tracer=val0\n",
    ")\n"
   ]
  },
  {
   "cell_type": "code",
   "execution_count": null,
   "id": "b46ae0d1",
   "metadata": {},
   "outputs": [],
   "source": [
    "solution = solver(state, system)\n",
    "%timeit solution = solver(state, system)"
   ]
  },
  {
   "cell_type": "code",
   "execution_count": null,
   "id": "38c53697-1631-4bec-8fe8-5492174e7bf2",
   "metadata": {},
   "outputs": [],
   "source": [
    "plt.plot(cells.centers[:], solution.ys.tracer.T[:,0::10]);\n",
    "plt.show()"
   ]
  },
  {
   "cell_type": "code",
   "execution_count": null,
   "id": "4e633a60",
   "metadata": {},
   "outputs": [],
   "source": [
    "plt.plot(cells.centers[:], solution.ys.reactive_tracer.T[:,0::10]);\n",
    "plt.show()"
   ]
  },
  {
   "cell_type": "code",
   "execution_count": null,
   "id": "397e4e4e",
   "metadata": {},
   "outputs": [],
   "source": [
    "%matplotlib widget\n",
    "from matplotlib import animation, collections\n",
    "\n",
    "collections.Collection()\n",
    "fig, ax = plt.subplots()\n",
    "\n",
    "artists = []\n",
    "for data in zip(solution.ys.tracer, solution.ys.reactive_tracer):\n",
    "    containers = [ax.plot(cells.centers, y, color=f\"C{i}\") for i, y in enumerate(data)]\n",
    "    artist = []\n",
    "    for container in containers:\n",
    "        artist.extend(container)\n",
    "    artists.append(artist)\n",
    "\n",
    "\n",
    "ani = animation.ArtistAnimation(fig=fig, artists=artists, interval=40)\n",
    "plt.show()"
   ]
  },
  {
   "cell_type": "code",
   "execution_count": null,
   "id": "1edbd2c6",
   "metadata": {},
   "outputs": [],
   "source": [
    "mass_in = system.discharge(solution.ts) * bcs[0].fixed_concentration(solution.ts) * solution.ts\n",
    "mass_in_system = (solution.ys.tracer * cells.cell_area * cells.face_distances * system.porosity).sum(axis=1)"
   ]
  },
  {
   "cell_type": "code",
   "execution_count": null,
   "id": "f3724466",
   "metadata": {},
   "outputs": [],
   "source": [
    "plt.plot(solution.ts, mass_in)\n",
    "plt.plot(solution.ts, mass_in_system)\n",
    "plt.show()"
   ]
  }
 ],
 "metadata": {
  "kernelspec": {
   "display_name": "default",
   "language": "python",
   "name": "python3"
  },
  "language_info": {
   "codemirror_mode": {
    "name": "ipython",
    "version": 3
   },
   "file_extension": ".py",
   "mimetype": "text/x-python",
   "name": "python",
   "nbconvert_exporter": "python",
   "pygments_lexer": "ipython3",
   "version": "3.13.3"
  }
 },
 "nbformat": 4,
 "nbformat_minor": 5
}
