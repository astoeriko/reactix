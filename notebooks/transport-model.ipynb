{
 "cells": [
  {
   "cell_type": "code",
   "execution_count": null,
   "id": "9ff039d9-af08-4303-a907-5db4a96050e6",
   "metadata": {},
   "outputs": [],
   "source": [
    "import jax\n",
    "import jax.numpy as jnp\n",
    "import numpy as np\n",
    "import matplotlib.pyplot as plt\n",
    "\n",
    "from kinetix.transport import (\n",
    "    Advection,\n",
    "    Cells,\n",
    "    Dispersion,\n",
    "    FixedConcentrationBoundary,\n",
    "    Species,\n",
    "    System,\n",
    "    make_solver,\n",
    ")"
   ]
  },
  {
   "cell_type": "code",
   "execution_count": null,
   "id": "1721c501-5617-420d-afd0-012d4ab732d4",
   "metadata": {},
   "outputs": [],
   "source": [
    "jax.config.update(\"jax_enable_x64\", True)\n",
    "cells = Cells.equally_spaced(10, 200)\n",
    "dispersion = Dispersion(\n",
    "    dispersivity=jnp.array(0.1),\n",
    "    pore_diffusion=Species(\n",
    "        tracer=jnp.array(1e-9 * 3600 * 24),\n",
    "    ),\n",
    ")\n",
    "advection = Advection(\n",
    "    limiter_type=\"minmod\"\n",
    ")\n",
    "bcs = [\n",
    "    FixedConcentrationBoundary(\n",
    "        boundary=\"left\",\n",
    "        species_selector=lambda s: getattr(s, \"tracer\"),\n",
    "        fixed_concentration=lambda t: jnp.array(10.0),\n",
    "    ),\n",
    "    FixedConcentrationBoundary(\n",
    "        boundary=\"right\",\n",
    "        species_selector=lambda s: getattr(s, \"tracer\"),\n",
    "        fixed_concentration=lambda t: jnp.array(3.0),\n",
    "    )\n",
    "]\n",
    "system = System(\n",
    "    porosity=jnp.array(0.3),\n",
    "    velocity=lambda t: jnp.array(1 / 365) * jnp.sin(np.pi * 2 * 1 / 5000 * t),\n",
    "    cells=cells,\n",
    "    advection=advection,\n",
    "    dispersion=dispersion,\n",
    "    bcs=bcs\n",
    ")"
   ]
  },
  {
   "cell_type": "code",
   "execution_count": null,
   "id": "1eddde22-569f-4721-b358-040e5f7ddd99",
   "metadata": {},
   "outputs": [],
   "source": [
    "t_points = jnp.linspace(0, 8000, 123)\n",
    "solver = make_solver(t_max=8000, t_points=t_points, rtol=1e-3, atol=1e-3)\n",
    "val0 = jnp.zeros(cells.n_cells)\n",
    "#val0 = val0.at[slice(10,20)].set(10.0)\n",
    "\n",
    "state = Species(\n",
    "    tracer=val0,\n",
    ")\n"
   ]
  },
  {
   "cell_type": "code",
   "execution_count": null,
   "id": "b46ae0d1",
   "metadata": {},
   "outputs": [],
   "source": [
    "solution = solver(state, system)"
   ]
  },
  {
   "cell_type": "code",
   "execution_count": null,
   "id": "38c53697-1631-4bec-8fe8-5492174e7bf2",
   "metadata": {},
   "outputs": [],
   "source": [
    "plt.plot(cells.centers[:], solution.ys.tracer.T[:,0::10]);"
   ]
  },
  {
   "cell_type": "code",
   "execution_count": null,
   "id": "397e4e4e",
   "metadata": {},
   "outputs": [],
   "source": [
    "%matplotlib widget\n",
    "from matplotlib import animation\n",
    "\n",
    "\n",
    "fig, ax = plt.subplots()\n",
    "\n",
    "artists = []\n",
    "for data in solution.ys.tracer:\n",
    "    container = ax.plot(cells.centers, data, color=\"C0\")\n",
    "    artists.append(container)\n",
    "\n",
    "\n",
    "ani = animation.ArtistAnimation(fig=fig, artists=artists, interval=40)\n",
    "plt.show()"
   ]
  }
 ],
 "metadata": {
  "kernelspec": {
   "display_name": "default",
   "language": "python",
   "name": "python3"
  },
  "language_info": {
   "codemirror_mode": {
    "name": "ipython",
    "version": 3
   },
   "file_extension": ".py",
   "mimetype": "text/x-python",
   "name": "python",
   "nbconvert_exporter": "python",
   "pygments_lexer": "ipython3",
   "version": "3.13.3"
  }
 },
 "nbformat": 4,
 "nbformat_minor": 5
}
