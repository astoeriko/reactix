{
 "cells": [
  {
   "cell_type": "code",
   "execution_count": null,
   "id": "a015cae5-632b-451f-a107-3902af5dfe97",
   "metadata": {},
   "outputs": [],
   "source": [
    "%env EQX_ON_ERROR=nan"
   ]
  },
  {
   "cell_type": "code",
   "execution_count": null,
   "id": "9ff039d9-af08-4303-a907-5db4a96050e6",
   "metadata": {},
   "outputs": [],
   "source": [
    "import jax\n",
    "import jax.numpy as jnp\n",
    "import numpy as np\n",
    "import matplotlib.pyplot as plt\n",
    "import dataclasses\n",
    "\n",
    "from kinetix import (\n",
    "    Advection,\n",
    "    Cells,\n",
    "    Dispersion,\n",
    "    FixedConcentrationBoundary,\n",
    "    System,\n",
    "    make_solver,\n",
    "    declare_species,\n",
    "    KineticReaction,\n",
    "    reaction,\n",
    "    SpatiallyConst,\n",
    "    SpatiallyVarying\n",
    ")\n",
    "\n",
    "from dataclasses import dataclass"
   ]
  },
  {
   "cell_type": "code",
   "execution_count": null,
   "id": "06bc296f",
   "metadata": {},
   "outputs": [],
   "source": [
    "import pytensor.tensor as pt\n",
    "import pytensor\n",
    "import pymc as pm\n",
    "import nutpie"
   ]
  },
  {
   "cell_type": "code",
   "execution_count": null,
   "id": "858c1ec4",
   "metadata": {},
   "outputs": [],
   "source": [
    "\n",
    "jax.config.update(\"jax_enable_x64\", True)"
   ]
  },
  {
   "cell_type": "code",
   "execution_count": null,
   "id": "15bb6a7f",
   "metadata": {},
   "outputs": [],
   "source": [
    "@reaction\n",
    "class FirstOrderDecay(KineticReaction):\n",
    "    decay_coefficient: jax.Array\n",
    "\n",
    "    def rate(self, time, state, system):\n",
    "        return self.decay_coefficient * state.reactive_tracer\n",
    "\n",
    "    def stoichiometry(self, time, state, system):\n",
    "        return {\n",
    "            \"reactive_tracer\": -1,\n",
    "        }\n",
    "    \n",
    "Species = declare_species([\"tracer\", \"reactive_tracer\"])"
   ]
  },
  {
   "cell_type": "code",
   "execution_count": null,
   "id": "1721c501-5617-420d-afd0-012d4ab732d4",
   "metadata": {},
   "outputs": [],
   "source": [
    "def make_system(decay_coefficient):\n",
    "    species_is_mobile = Species(tracer=True, reactive_tracer=True)\n",
    "    n_cells = 200\n",
    "    reactions = [\n",
    "        FirstOrderDecay(\n",
    "            decay_coefficient=decay_coefficient\n",
    "        )\n",
    "    ]\n",
    "    interface_areas = jnp.ones(n_cells + 1)\n",
    "    cells = Cells.equally_spaced(10, n_cells, interface_area=interface_areas)\n",
    "    dispersion = Dispersion.build(\n",
    "        cells=cells,\n",
    "        dispersivity=jnp.array(0.1),\n",
    "        pore_diffusion=Species(\n",
    "            tracer=jnp.array(1e-9 * 3600 * 24),\n",
    "            reactive_tracer=jnp.array(1e-9 * 3600 * 24),\n",
    "        ),\n",
    "    )\n",
    "    advection = Advection.build(\n",
    "        limiter_type=\"upwind\",\n",
    "    )\n",
    "    bcs = [\n",
    "        FixedConcentrationBoundary(\n",
    "            boundary=\"left\",\n",
    "            species_selector=lambda s: getattr(s, \"tracer\"),\n",
    "            fixed_concentration=lambda t: jnp.array(10.0),\n",
    "        ),\n",
    "        FixedConcentrationBoundary(\n",
    "            boundary=\"right\",\n",
    "            species_selector=lambda s: getattr(s, \"tracer\"),\n",
    "            fixed_concentration=lambda t: jnp.array(3.0),\n",
    "        ),\n",
    "        FixedConcentrationBoundary(\n",
    "            boundary=\"left\",\n",
    "            species_selector=lambda s: getattr(s, \"reactive_tracer\"),\n",
    "            fixed_concentration=lambda t: jnp.array(1.0),\n",
    "        ),\n",
    "        FixedConcentrationBoundary(\n",
    "            boundary=\"right\",\n",
    "            species_selector=lambda s: getattr(s, \"reactive_tracer\"),\n",
    "            fixed_concentration=lambda t: jnp.array(3.0),\n",
    "        )\n",
    "    ]\n",
    "\n",
    "    porosity= jnp.ones(n_cells) * 0.3\n",
    "    #porosity = porosity.at[100:].set(0.1)\n",
    "    return System.build(\n",
    "        porosity=porosity,\n",
    "        # velocity=lambda t: jnp.array(1 / 365) * jnp.sin(np.pi * 2 * 1 / 5000 * t),\n",
    "        discharge=lambda t: jnp.array(1 / 365) * 0.3,\n",
    "        cells=cells,\n",
    "        advection=advection,\n",
    "        dispersion=dispersion,\n",
    "        species_is_mobile=species_is_mobile,\n",
    "        bcs=bcs,\n",
    "        reactions=reactions\n",
    "    )"
   ]
  },
  {
   "cell_type": "code",
   "execution_count": null,
   "id": "853ceb90",
   "metadata": {},
   "outputs": [],
   "source": [
    "t_points = jnp.linspace(0, 8000, 123)\n",
    "coords = {\n",
    "    \"time_dense\": np.array(t_points),\n",
    "}\n",
    "\n",
    "with pm.Model(coords=coords) as model:\n",
    "    decay_coefficient = pm.HalfNormal(\"k_dec\", 0.01)\n",
    "    system = make_system(decay_coefficient)\n",
    "    model.add_coord(\"x\", np.array(system.cells.centers))\n",
    "    val0 = jnp.zeros(system.cells.n_cells)\n",
    "    initial_state = Species(\n",
    "        tracer=val0,\n",
    "        reactive_tracer=val0\n",
    "    )\n",
    "\n",
    "    @pytensor.as_jax_op\n",
    "    def solve_pt(y0, system):\n",
    "        solve_fn_dense = make_solver(t_max=8000, t_points=t_points, rtol=1e-6, atol=1e-6)\n",
    "        return solve_fn_dense(y0, system).ys\n",
    "    \n",
    "    solution = solve_pt(initial_state, system)\n",
    "\n",
    "    fields = dataclasses.fields(solution)\n",
    "    for field in fields:\n",
    "        pm.Deterministic(\n",
    "            field.name,\n",
    "            getattr(solution, field.name),\n",
    "            dims=(\"time_dense\", \"x\"),\n",
    "        )\n",
    "    pm.Normal(\"made_up_point\", mu=solution.reactive_tracer[20, 40], sigma=0.1, observed=0.5)\n"
   ]
  },
  {
   "cell_type": "code",
   "execution_count": null,
   "id": "ee25de4d",
   "metadata": {},
   "outputs": [],
   "source": [
    "with model:\n",
    "    prior = pm.sample_prior_predictive(draws=50)"
   ]
  },
  {
   "cell_type": "code",
   "execution_count": null,
   "id": "fca11dc7",
   "metadata": {},
   "outputs": [],
   "source": [
    "compiled = nutpie.compile_pymc_model(model, backend=\"jax\", gradient_backend=\"jax\")\n",
    "sampler = nutpie.sample(compiled, chains=2, blocking=False)"
   ]
  },
  {
   "cell_type": "code",
   "execution_count": null,
   "id": "d492fbb1",
   "metadata": {},
   "outputs": [],
   "source": [
    "trace = sampler.inspect()\n"
   ]
  },
  {
   "cell_type": "code",
   "execution_count": null,
   "id": "c9230034",
   "metadata": {},
   "outputs": [],
   "source": [
    "sampler.abort()"
   ]
  },
  {
   "cell_type": "code",
   "execution_count": null,
   "id": "35abfdbf",
   "metadata": {},
   "outputs": [],
   "source": [
    "trace.warmup_sample_stats.diverging.plot.line(x=\"draw\", hue=\"chain\")"
   ]
  },
  {
   "cell_type": "code",
   "execution_count": null,
   "id": "9c1c306d",
   "metadata": {},
   "outputs": [],
   "source": [
    "trace.warmup_posterior.k_dec.isel(chain=0, draw=slice(100, None)).plot.line(x=\"draw\")"
   ]
  },
  {
   "cell_type": "code",
   "execution_count": null,
   "id": "63a3c605",
   "metadata": {},
   "outputs": [],
   "source": [
    "trace.warmup_sample_stats.step_size.plot.line(x=\"draw\")\n",
    "plt.yscale(\"log\")"
   ]
  },
  {
   "cell_type": "code",
   "execution_count": null,
   "id": "a12de2d8",
   "metadata": {},
   "outputs": [],
   "source": [
    "trace.warmup_posterior.reactive_tracer.isel(chain=0, time_dense=20).plot.line(x=\"x\", hue=\"draw\", add_legend=False);"
   ]
  },
  {
   "cell_type": "code",
   "execution_count": null,
   "id": "430a404d",
   "metadata": {},
   "outputs": [],
   "source": [
    "prior.prior.reactive_tracer.isel(chain=0, time_dense=20).plot.line(x=\"x\", hue=\"draw\", add_legend=False);"
   ]
  },
  {
   "cell_type": "code",
   "execution_count": null,
   "id": "6895010e",
   "metadata": {},
   "outputs": [],
   "source": [
    "prior.prior.reactive_tracer.isel(chain=0, x=-1).plot.line(x=\"time_dense\", hue=\"draw\", add_legend=False);"
   ]
  },
  {
   "cell_type": "code",
   "execution_count": null,
   "id": "cecd4b29",
   "metadata": {},
   "outputs": [],
   "source": []
  }
 ],
 "metadata": {
  "kernelspec": {
   "display_name": "default",
   "language": "python",
   "name": "python3"
  },
  "language_info": {
   "codemirror_mode": {
    "name": "ipython",
    "version": 3
   },
   "file_extension": ".py",
   "mimetype": "text/x-python",
   "name": "python",
   "nbconvert_exporter": "python",
   "pygments_lexer": "ipython3",
   "version": "3.13.3"
  }
 },
 "nbformat": 4,
 "nbformat_minor": 5
}
